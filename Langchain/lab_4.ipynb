{
 "cells": [
  {
   "cell_type": "markdown",
   "metadata": {},
   "source": [
    "Langchain"
   ]
  },
  {
   "cell_type": "code",
   "execution_count": 3,
   "metadata": {},
   "outputs": [
    {
     "name": "stdout",
     "output_type": "stream",
     "text": [
      "Requirement already satisfied: pymongo in c:\\users\\amanb\\appdata\\local\\programs\\python\\python312\\lib\\site-packages (4.8.0)\n",
      "Requirement already satisfied: dnspython<3.0.0,>=1.16.0 in c:\\users\\amanb\\appdata\\local\\programs\\python\\python312\\lib\\site-packages (from pymongo) (2.6.1)\n"
     ]
    },
    {
     "name": "stderr",
     "output_type": "stream",
     "text": [
      "\n",
      "[notice] A new release of pip is available: 24.0 -> 24.1.1\n",
      "[notice] To update, run: python.exe -m pip install --upgrade pip\n"
     ]
    },
    {
     "name": "stdout",
     "output_type": "stream",
     "text": [
      "Requirement already satisfied: python-dotenv in c:\\users\\amanb\\appdata\\local\\programs\\python\\python312\\lib\\site-packages (1.0.1)\n"
     ]
    },
    {
     "name": "stderr",
     "output_type": "stream",
     "text": [
      "\n",
      "[notice] A new release of pip is available: 24.0 -> 24.1.1\n",
      "[notice] To update, run: python.exe -m pip install --upgrade pip\n"
     ]
    },
    {
     "name": "stdout",
     "output_type": "stream",
     "text": [
      "Requirement already satisfied: langchain in c:\\users\\amanb\\appdata\\local\\programs\\python\\python312\\lib\\site-packages (0.2.6)\n",
      "Requirement already satisfied: PyYAML>=5.3 in c:\\users\\amanb\\appdata\\local\\programs\\python\\python312\\lib\\site-packages (from langchain) (6.0.1)\n",
      "Requirement already satisfied: SQLAlchemy<3,>=1.4 in c:\\users\\amanb\\appdata\\local\\programs\\python\\python312\\lib\\site-packages (from langchain) (2.0.31)\n",
      "Requirement already satisfied: aiohttp<4.0.0,>=3.8.3 in c:\\users\\amanb\\appdata\\local\\programs\\python\\python312\\lib\\site-packages (from langchain) (3.9.5)\n",
      "Requirement already satisfied: langchain-core<0.3.0,>=0.2.10 in c:\\users\\amanb\\appdata\\local\\programs\\python\\python312\\lib\\site-packages (from langchain) (0.2.11)\n",
      "Requirement already satisfied: langchain-text-splitters<0.3.0,>=0.2.0 in c:\\users\\amanb\\appdata\\local\\programs\\python\\python312\\lib\\site-packages (from langchain) (0.2.2)\n",
      "Requirement already satisfied: langsmith<0.2.0,>=0.1.17 in c:\\users\\amanb\\appdata\\local\\programs\\python\\python312\\lib\\site-packages (from langchain) (0.1.83)\n",
      "Requirement already satisfied: numpy<2.0.0,>=1.26.0 in c:\\users\\amanb\\appdata\\local\\programs\\python\\python312\\lib\\site-packages (from langchain) (1.26.4)\n",
      "Requirement already satisfied: pydantic<3,>=1 in c:\\users\\amanb\\appdata\\local\\programs\\python\\python312\\lib\\site-packages (from langchain) (2.7.4)\n",
      "Requirement already satisfied: requests<3,>=2 in c:\\users\\amanb\\appdata\\local\\programs\\python\\python312\\lib\\site-packages (from langchain) (2.32.3)\n",
      "Requirement already satisfied: tenacity!=8.4.0,<9.0.0,>=8.1.0 in c:\\users\\amanb\\appdata\\local\\programs\\python\\python312\\lib\\site-packages (from langchain) (8.4.2)\n",
      "Requirement already satisfied: aiosignal>=1.1.2 in c:\\users\\amanb\\appdata\\local\\programs\\python\\python312\\lib\\site-packages (from aiohttp<4.0.0,>=3.8.3->langchain) (1.3.1)\n",
      "Requirement already satisfied: attrs>=17.3.0 in c:\\users\\amanb\\appdata\\local\\programs\\python\\python312\\lib\\site-packages (from aiohttp<4.0.0,>=3.8.3->langchain) (23.2.0)\n",
      "Requirement already satisfied: frozenlist>=1.1.1 in c:\\users\\amanb\\appdata\\local\\programs\\python\\python312\\lib\\site-packages (from aiohttp<4.0.0,>=3.8.3->langchain) (1.4.1)\n",
      "Requirement already satisfied: multidict<7.0,>=4.5 in c:\\users\\amanb\\appdata\\local\\programs\\python\\python312\\lib\\site-packages (from aiohttp<4.0.0,>=3.8.3->langchain) (6.0.5)\n",
      "Requirement already satisfied: yarl<2.0,>=1.0 in c:\\users\\amanb\\appdata\\local\\programs\\python\\python312\\lib\\site-packages (from aiohttp<4.0.0,>=3.8.3->langchain) (1.9.4)\n",
      "Requirement already satisfied: jsonpatch<2.0,>=1.33 in c:\\users\\amanb\\appdata\\local\\programs\\python\\python312\\lib\\site-packages (from langchain-core<0.3.0,>=0.2.10->langchain) (1.33)\n",
      "Requirement already satisfied: packaging<25,>=23.2 in c:\\users\\amanb\\appdata\\roaming\\python\\python312\\site-packages (from langchain-core<0.3.0,>=0.2.10->langchain) (24.1)\n",
      "Requirement already satisfied: orjson<4.0.0,>=3.9.14 in c:\\users\\amanb\\appdata\\local\\programs\\python\\python312\\lib\\site-packages (from langsmith<0.2.0,>=0.1.17->langchain) (3.10.6)\n",
      "Requirement already satisfied: annotated-types>=0.4.0 in c:\\users\\amanb\\appdata\\local\\programs\\python\\python312\\lib\\site-packages (from pydantic<3,>=1->langchain) (0.7.0)\n",
      "Requirement already satisfied: pydantic-core==2.18.4 in c:\\users\\amanb\\appdata\\local\\programs\\python\\python312\\lib\\site-packages (from pydantic<3,>=1->langchain) (2.18.4)\n",
      "Requirement already satisfied: typing-extensions>=4.6.1 in c:\\users\\amanb\\appdata\\local\\programs\\python\\python312\\lib\\site-packages (from pydantic<3,>=1->langchain) (4.12.2)\n",
      "Requirement already satisfied: charset-normalizer<4,>=2 in c:\\users\\amanb\\appdata\\local\\programs\\python\\python312\\lib\\site-packages (from requests<3,>=2->langchain) (3.3.2)\n",
      "Requirement already satisfied: idna<4,>=2.5 in c:\\users\\amanb\\appdata\\local\\programs\\python\\python312\\lib\\site-packages (from requests<3,>=2->langchain) (3.7)\n",
      "Requirement already satisfied: urllib3<3,>=1.21.1 in c:\\users\\amanb\\appdata\\local\\programs\\python\\python312\\lib\\site-packages (from requests<3,>=2->langchain) (2.2.2)\n",
      "Requirement already satisfied: certifi>=2017.4.17 in c:\\users\\amanb\\appdata\\local\\programs\\python\\python312\\lib\\site-packages (from requests<3,>=2->langchain) (2024.6.2)\n",
      "Requirement already satisfied: greenlet!=0.4.17 in c:\\users\\amanb\\appdata\\local\\programs\\python\\python312\\lib\\site-packages (from SQLAlchemy<3,>=1.4->langchain) (3.0.3)\n",
      "Requirement already satisfied: jsonpointer>=1.9 in c:\\users\\amanb\\appdata\\local\\programs\\python\\python312\\lib\\site-packages (from jsonpatch<2.0,>=1.33->langchain-core<0.3.0,>=0.2.10->langchain) (3.0.0)\n"
     ]
    },
    {
     "name": "stderr",
     "output_type": "stream",
     "text": [
      "\n",
      "[notice] A new release of pip is available: 24.0 -> 24.1.1\n",
      "[notice] To update, run: python.exe -m pip install --upgrade pip\n"
     ]
    },
    {
     "name": "stdout",
     "output_type": "stream",
     "text": [
      "Collecting langchain_community\n",
      "  Downloading langchain_community-0.2.6-py3-none-any.whl.metadata (2.5 kB)\n",
      "Requirement already satisfied: PyYAML>=5.3 in c:\\users\\amanb\\appdata\\local\\programs\\python\\python312\\lib\\site-packages (from langchain_community) (6.0.1)\n",
      "Requirement already satisfied: SQLAlchemy<3,>=1.4 in c:\\users\\amanb\\appdata\\local\\programs\\python\\python312\\lib\\site-packages (from langchain_community) (2.0.31)\n",
      "Requirement already satisfied: aiohttp<4.0.0,>=3.8.3 in c:\\users\\amanb\\appdata\\local\\programs\\python\\python312\\lib\\site-packages (from langchain_community) (3.9.5)\n",
      "Collecting dataclasses-json<0.7,>=0.5.7 (from langchain_community)\n",
      "  Using cached dataclasses_json-0.6.7-py3-none-any.whl.metadata (25 kB)\n",
      "Requirement already satisfied: langchain<0.3.0,>=0.2.6 in c:\\users\\amanb\\appdata\\local\\programs\\python\\python312\\lib\\site-packages (from langchain_community) (0.2.6)\n",
      "Requirement already satisfied: langchain-core<0.3.0,>=0.2.10 in c:\\users\\amanb\\appdata\\local\\programs\\python\\python312\\lib\\site-packages (from langchain_community) (0.2.11)\n",
      "Requirement already satisfied: langsmith<0.2.0,>=0.1.0 in c:\\users\\amanb\\appdata\\local\\programs\\python\\python312\\lib\\site-packages (from langchain_community) (0.1.83)\n",
      "Requirement already satisfied: numpy<2.0.0,>=1.26.0 in c:\\users\\amanb\\appdata\\local\\programs\\python\\python312\\lib\\site-packages (from langchain_community) (1.26.4)\n",
      "Requirement already satisfied: requests<3,>=2 in c:\\users\\amanb\\appdata\\local\\programs\\python\\python312\\lib\\site-packages (from langchain_community) (2.32.3)\n",
      "Requirement already satisfied: tenacity!=8.4.0,<9.0.0,>=8.1.0 in c:\\users\\amanb\\appdata\\local\\programs\\python\\python312\\lib\\site-packages (from langchain_community) (8.4.2)\n",
      "Requirement already satisfied: aiosignal>=1.1.2 in c:\\users\\amanb\\appdata\\local\\programs\\python\\python312\\lib\\site-packages (from aiohttp<4.0.0,>=3.8.3->langchain_community) (1.3.1)\n",
      "Requirement already satisfied: attrs>=17.3.0 in c:\\users\\amanb\\appdata\\local\\programs\\python\\python312\\lib\\site-packages (from aiohttp<4.0.0,>=3.8.3->langchain_community) (23.2.0)\n",
      "Requirement already satisfied: frozenlist>=1.1.1 in c:\\users\\amanb\\appdata\\local\\programs\\python\\python312\\lib\\site-packages (from aiohttp<4.0.0,>=3.8.3->langchain_community) (1.4.1)\n",
      "Requirement already satisfied: multidict<7.0,>=4.5 in c:\\users\\amanb\\appdata\\local\\programs\\python\\python312\\lib\\site-packages (from aiohttp<4.0.0,>=3.8.3->langchain_community) (6.0.5)\n",
      "Requirement already satisfied: yarl<2.0,>=1.0 in c:\\users\\amanb\\appdata\\local\\programs\\python\\python312\\lib\\site-packages (from aiohttp<4.0.0,>=3.8.3->langchain_community) (1.9.4)\n",
      "Collecting marshmallow<4.0.0,>=3.18.0 (from dataclasses-json<0.7,>=0.5.7->langchain_community)\n",
      "  Using cached marshmallow-3.21.3-py3-none-any.whl.metadata (7.1 kB)\n",
      "Collecting typing-inspect<1,>=0.4.0 (from dataclasses-json<0.7,>=0.5.7->langchain_community)\n",
      "  Using cached typing_inspect-0.9.0-py3-none-any.whl.metadata (1.5 kB)\n",
      "Requirement already satisfied: langchain-text-splitters<0.3.0,>=0.2.0 in c:\\users\\amanb\\appdata\\local\\programs\\python\\python312\\lib\\site-packages (from langchain<0.3.0,>=0.2.6->langchain_community) (0.2.2)\n",
      "Requirement already satisfied: pydantic<3,>=1 in c:\\users\\amanb\\appdata\\local\\programs\\python\\python312\\lib\\site-packages (from langchain<0.3.0,>=0.2.6->langchain_community) (2.7.4)\n",
      "Requirement already satisfied: jsonpatch<2.0,>=1.33 in c:\\users\\amanb\\appdata\\local\\programs\\python\\python312\\lib\\site-packages (from langchain-core<0.3.0,>=0.2.10->langchain_community) (1.33)\n",
      "Requirement already satisfied: packaging<25,>=23.2 in c:\\users\\amanb\\appdata\\roaming\\python\\python312\\site-packages (from langchain-core<0.3.0,>=0.2.10->langchain_community) (24.1)\n",
      "Requirement already satisfied: orjson<4.0.0,>=3.9.14 in c:\\users\\amanb\\appdata\\local\\programs\\python\\python312\\lib\\site-packages (from langsmith<0.2.0,>=0.1.0->langchain_community) (3.10.6)\n",
      "Requirement already satisfied: charset-normalizer<4,>=2 in c:\\users\\amanb\\appdata\\local\\programs\\python\\python312\\lib\\site-packages (from requests<3,>=2->langchain_community) (3.3.2)\n",
      "Requirement already satisfied: idna<4,>=2.5 in c:\\users\\amanb\\appdata\\local\\programs\\python\\python312\\lib\\site-packages (from requests<3,>=2->langchain_community) (3.7)\n",
      "Requirement already satisfied: urllib3<3,>=1.21.1 in c:\\users\\amanb\\appdata\\local\\programs\\python\\python312\\lib\\site-packages (from requests<3,>=2->langchain_community) (2.2.2)\n",
      "Requirement already satisfied: certifi>=2017.4.17 in c:\\users\\amanb\\appdata\\local\\programs\\python\\python312\\lib\\site-packages (from requests<3,>=2->langchain_community) (2024.6.2)\n",
      "Requirement already satisfied: typing-extensions>=4.6.0 in c:\\users\\amanb\\appdata\\local\\programs\\python\\python312\\lib\\site-packages (from SQLAlchemy<3,>=1.4->langchain_community) (4.12.2)\n",
      "Requirement already satisfied: greenlet!=0.4.17 in c:\\users\\amanb\\appdata\\local\\programs\\python\\python312\\lib\\site-packages (from SQLAlchemy<3,>=1.4->langchain_community) (3.0.3)\n",
      "Requirement already satisfied: jsonpointer>=1.9 in c:\\users\\amanb\\appdata\\local\\programs\\python\\python312\\lib\\site-packages (from jsonpatch<2.0,>=1.33->langchain-core<0.3.0,>=0.2.10->langchain_community) (3.0.0)\n",
      "Requirement already satisfied: annotated-types>=0.4.0 in c:\\users\\amanb\\appdata\\local\\programs\\python\\python312\\lib\\site-packages (from pydantic<3,>=1->langchain<0.3.0,>=0.2.6->langchain_community) (0.7.0)\n",
      "Requirement already satisfied: pydantic-core==2.18.4 in c:\\users\\amanb\\appdata\\local\\programs\\python\\python312\\lib\\site-packages (from pydantic<3,>=1->langchain<0.3.0,>=0.2.6->langchain_community) (2.18.4)\n",
      "Collecting mypy-extensions>=0.3.0 (from typing-inspect<1,>=0.4.0->dataclasses-json<0.7,>=0.5.7->langchain_community)\n",
      "  Using cached mypy_extensions-1.0.0-py3-none-any.whl.metadata (1.1 kB)\n",
      "Downloading langchain_community-0.2.6-py3-none-any.whl (2.2 MB)\n",
      "   ---------------------------------------- 0.0/2.2 MB ? eta -:--:--\n",
      "    --------------------------------------- 0.0/2.2 MB 1.4 MB/s eta 0:00:02\n",
      "   ---- ----------------------------------- 0.3/2.2 MB 4.3 MB/s eta 0:00:01\n",
      "   -------------- ------------------------- 0.8/2.2 MB 7.3 MB/s eta 0:00:01\n",
      "   ------------------------ --------------- 1.4/2.2 MB 8.7 MB/s eta 0:00:01\n",
      "   --------------------------------- ------ 1.9/2.2 MB 9.3 MB/s eta 0:00:01\n",
      "   ---------------------------------------  2.2/2.2 MB 9.5 MB/s eta 0:00:01\n",
      "   ---------------------------------------- 2.2/2.2 MB 8.9 MB/s eta 0:00:00\n",
      "Using cached dataclasses_json-0.6.7-py3-none-any.whl (28 kB)\n",
      "Using cached marshmallow-3.21.3-py3-none-any.whl (49 kB)\n",
      "Using cached typing_inspect-0.9.0-py3-none-any.whl (8.8 kB)\n",
      "Using cached mypy_extensions-1.0.0-py3-none-any.whl (4.7 kB)\n",
      "Installing collected packages: mypy-extensions, marshmallow, typing-inspect, dataclasses-json, langchain_community\n",
      "Successfully installed dataclasses-json-0.6.7 langchain_community-0.2.6 marshmallow-3.21.3 mypy-extensions-1.0.0 typing-inspect-0.9.0\n"
     ]
    },
    {
     "name": "stderr",
     "output_type": "stream",
     "text": [
      "\n",
      "[notice] A new release of pip is available: 24.0 -> 24.1.1\n",
      "[notice] To update, run: python.exe -m pip install --upgrade pip\n"
     ]
    }
   ],
   "source": [
    "! pip install pymongo\n",
    "! pip install python-dotenv\n",
    "! pip install langchain\n",
    "! pip install langchain_community"
   ]
  },
  {
   "cell_type": "code",
   "execution_count": 4,
   "metadata": {},
   "outputs": [],
   "source": [
    "import os\n",
    "import json\n",
    "import pymongo\n",
    "from typing import List\n",
    "from dotenv import load_dotenv\n",
    "from langchain.chat_models import AzureChatOpenAI\n",
    "from langchain.embeddings import AzureOpenAIEmbeddings\n",
    "from langchain.vectorstores import AzureCosmosDBVectorSearch\n",
    "from langchain_core.vectorstores import VectorStoreRetriever\n",
    "from langchain.schema.document import Document\n",
    "from langchain.prompts import PromptTemplate\n",
    "from langchain.schema import StrOutputParser\n",
    "from langchain.schema.runnable import RunnablePassthrough\n",
    "from langchain.agents import Tool\n",
    "from langchain.agents.agent_toolkits import create_conversational_retrieval_agent\n",
    "from langchain_core.messages import SystemMessage"
   ]
  },
  {
   "cell_type": "code",
   "execution_count": 5,
   "metadata": {},
   "outputs": [],
   "source": [
    "# Load settings for the notebook\n",
    "load_dotenv()\n",
    "CONNECTION_STRING = os.environ.get(\"DB_CONNECTION_STRING\")\n",
    "EMBEDDINGS_DEPLOYMENT_NAME = \"embeddings\"\n",
    "COMPLETIONS_DEPLOYMENT_NAME = \"completions\"\n",
    "AOAI_ENDPOINT = os.environ.get(\"AOAI_ENDPOINT\")\n",
    "AOAI_KEY = os.environ.get(\"AOAI_KEY\")\n",
    "AOAI_API_VERSION = \"2023-09-01-preview\""
   ]
  },
  {
   "cell_type": "code",
   "execution_count": 6,
   "metadata": {},
   "outputs": [
    {
     "name": "stderr",
     "output_type": "stream",
     "text": [
      "c:\\Users\\amanb\\AppData\\Local\\Programs\\Python\\Python312\\Lib\\site-packages\\langchain_core\\_api\\deprecation.py:139: LangChainDeprecationWarning: The class `AzureChatOpenAI` was deprecated in LangChain 0.0.10 and will be removed in 0.3.0. An updated version of the class exists in the langchain-openai package and should be used instead. To use it run `pip install -U langchain-openai` and import as `from langchain_openai import AzureChatOpenAI`.\n",
      "  warn_deprecated(\n",
      "c:\\Users\\amanb\\AppData\\Local\\Programs\\Python\\Python312\\Lib\\site-packages\\langchain_core\\_api\\deprecation.py:139: LangChainDeprecationWarning: The class `AzureOpenAIEmbeddings` was deprecated in LangChain 0.0.9 and will be removed in 0.3.0. An updated version of the class exists in the langchain-openai package and should be used instead. To use it run `pip install -U langchain-openai` and import as `from langchain_openai import AzureOpenAIEmbeddings`.\n",
      "  warn_deprecated(\n"
     ]
    }
   ],
   "source": [
    "# Establish Azure OpenAI connectivity\n",
    "llm = AzureChatOpenAI(            \n",
    "        temperature = 0,\n",
    "        openai_api_version = AOAI_API_VERSION,\n",
    "        azure_endpoint = AOAI_ENDPOINT,\n",
    "        openai_api_key = AOAI_KEY,         \n",
    "        azure_deployment = \"completions\"\n",
    ")\n",
    "embedding_model = AzureOpenAIEmbeddings(\n",
    "    openai_api_version = AOAI_API_VERSION,\n",
    "    azure_endpoint = AOAI_ENDPOINT,\n",
    "    openai_api_key = AOAI_KEY,   \n",
    "    azure_deployment = \"embeddings\",\n",
    "    chunk_size=10\n",
    ")"
   ]
  },
  {
   "cell_type": "markdown",
   "metadata": {},
   "source": [
    "Vector search with LangChain\n",
    "\n",
    "In the previous lab, the pymongo library was used to perform a vector search through a db command to find product documents that were most similar to the user's input. In this lab, you will use the langchain library to perform the same search. LangChain has a vector store class named AzureCosmosDBVectorSearch, a community contribution, that supports vector search in vCore-based Azure Cosmos DB for MongoDB.\n",
    "\n",
    "When establishing the connection to the vector store (vCore-based Azure Cosmos DB for MongoDB), recall that in previous labs the products collection was populated and a contentVector field added that contains the vectorized embeddings of the document itself. Finally, a vector index was also created on the contentVector field to enable vector search. The vector index in each collection is named VectorSearchIndex.\n",
    "\n",
    "The return value of a vector search in LangChain is a list of Document objects. The LangChain Document class contains two properties: page_content, that represents the textual content that is typically used to augment the prompt, and metadata that contains all other attributes of the document. In the cell below, we'll use the _id field as the page_content, and the rest of the fields are returned as metadata.\n",
    "\n",
    "The next two cells initiate a connection to the vector store and performs a vector search. Notice how much more concise the code is compared to the previous lab with the addition of LangChain."
   ]
  },
  {
   "cell_type": "code",
   "execution_count": 7,
   "metadata": {},
   "outputs": [
    {
     "name": "stderr",
     "output_type": "stream",
     "text": [
      "c:\\Users\\amanb\\AppData\\Local\\Programs\\Python\\Python312\\Lib\\site-packages\\langchain_community\\vectorstores\\azure_cosmos_db.py:146: UserWarning: You appear to be connected to a CosmosDB cluster. For more information regarding feature compatibility and support please visit https://www.mongodb.com/supportability/cosmosdb\n",
      "  client: MongoClient = MongoClient(connection_string, appname=appname)\n"
     ]
    }
   ],
   "source": [
    "# Reference the existing vector store\n",
    "vector_store = AzureCosmosDBVectorSearch.from_connection_string(\n",
    "    connection_string = CONNECTION_STRING,\n",
    "    namespace = \"cosmic_works.products\",\n",
    "    embedding = embedding_model,\n",
    "    index_name = \"VectorSearchIndex\",    \n",
    "    embedding_key = \"contentVector\",\n",
    "    text_key = \"_id\"\n",
    ")"
   ]
  },
  {
   "cell_type": "code",
   "execution_count": 9,
   "metadata": {},
   "outputs": [
    {
     "name": "stdout",
     "output_type": "stream",
     "text": [
      "Collecting tiktoken\n",
      "  Downloading tiktoken-0.7.0-cp312-cp312-win_amd64.whl.metadata (6.8 kB)\n",
      "Collecting regex>=2022.1.18 (from tiktoken)\n",
      "  Using cached regex-2024.5.15-cp312-cp312-win_amd64.whl.metadata (41 kB)\n",
      "Requirement already satisfied: requests>=2.26.0 in c:\\users\\amanb\\appdata\\local\\programs\\python\\python312\\lib\\site-packages (from tiktoken) (2.32.3)\n",
      "Requirement already satisfied: charset-normalizer<4,>=2 in c:\\users\\amanb\\appdata\\local\\programs\\python\\python312\\lib\\site-packages (from requests>=2.26.0->tiktoken) (3.3.2)\n",
      "Requirement already satisfied: idna<4,>=2.5 in c:\\users\\amanb\\appdata\\local\\programs\\python\\python312\\lib\\site-packages (from requests>=2.26.0->tiktoken) (3.7)\n",
      "Requirement already satisfied: urllib3<3,>=1.21.1 in c:\\users\\amanb\\appdata\\local\\programs\\python\\python312\\lib\\site-packages (from requests>=2.26.0->tiktoken) (2.2.2)\n",
      "Requirement already satisfied: certifi>=2017.4.17 in c:\\users\\amanb\\appdata\\local\\programs\\python\\python312\\lib\\site-packages (from requests>=2.26.0->tiktoken) (2024.6.2)\n",
      "Downloading tiktoken-0.7.0-cp312-cp312-win_amd64.whl (799 kB)\n",
      "   ---------------------------------------- 0.0/799.3 kB ? eta -:--:--\n",
      "    -------------------------------------- 20.5/799.3 kB 640.0 kB/s eta 0:00:02\n",
      "   ------- -------------------------------- 153.6/799.3 kB 2.3 MB/s eta 0:00:01\n",
      "   ------------------------------- -------- 634.9/799.3 kB 5.7 MB/s eta 0:00:01\n",
      "   ---------------------------------------- 799.3/799.3 kB 5.6 MB/s eta 0:00:00\n",
      "Using cached regex-2024.5.15-cp312-cp312-win_amd64.whl (268 kB)\n",
      "Installing collected packages: regex, tiktoken\n",
      "Successfully installed regex-2024.5.15 tiktoken-0.7.0\n"
     ]
    },
    {
     "name": "stderr",
     "output_type": "stream",
     "text": [
      "\n",
      "[notice] A new release of pip is available: 24.0 -> 24.1.1\n",
      "[notice] To update, run: python.exe -m pip install --upgrade pip\n"
     ]
    }
   ],
   "source": [
    "! pip install tiktoken"
   ]
  },
  {
   "cell_type": "code",
   "execution_count": 10,
   "metadata": {},
   "outputs": [
    {
     "data": {
      "text/plain": [
       "[Document(metadata={'categoryId': 'AE48F0AA-4F65-4734-A4CF-D48B8F82267F', 'categoryName': 'Bikes, Road Bikes', 'sku': 'BK-R64Y-48', 'name': 'Road-550-W Yellow, 48', 'description': 'The product called \"Road-550-W Yellow, 48\"', 'price': 1120.49, 'tags': [{'_id': '46AC3482-E9A6-474D-A435-D3399F21991F', 'name': 'Tag-90'}, {'_id': '9C89E562-1247-435D-B786-4E54024E681C', 'name': 'Tag-128'}], 'contentVector': [0.013523309, 0.016277336, -0.01469247, -0.0064433822, -0.025279883, -0.00064141536, -0.014315741, -0.014601536, 0.01081475, -0.037179355, -0.005011159, -0.015939577, -0.013224523, -0.02012258, -0.015926586, 0.031541396, 0.030813918, -0.022266043, 0.0034880002, -0.029488867, 0.0062225405, 0.00969755, -0.019732859, 0.008015256, -0.005624969, 0.0059757177, 0.015536865, -0.013432374, 0.0050858553, -0.020083608, -0.0011448046, -0.0007193595, -0.036010195, -0.045961063, -0.00059229427, 0.0070994124, 0.009009044, -0.01374415, 0.009600121, 0.0011342496, 0.011171994, 0.0013705179, 0.018758558, -0.030372234, -0.013218028, 0.004962444, 0.019719867, 0.007924321, -0.016511168, 0.026449045, -0.017160702, 0.028917277, 0.00085982133, -0.007196842, -0.0054495945, -0.003291516, 0.03445131, 0.04515564, 0.020590244, 0.008151658, 0.013315458, -0.003393818, -0.023279317, -0.011100545, -0.022279033, -0.023837917, 0.007969788, -0.0026647153, 0.015510884, 0.010847227, 0.024799228, 0.013315458, -7.271742e-05, -0.030320272, 0.025370818, 0.016628083, -0.02803391, -0.009983346, 0.003500991, -0.004199241, 0.020070616, -0.022123145, -0.023370251, 0.014614526, 0.013575272, 0.0017212664, -0.03801076, 0.02351315, 0.007547591, -0.0020476575, -0.00791133, 0.027696151, 0.0008744358, -0.0037932815, -0.003025207, 0.023201372, -0.010262646, 0.036451876, -0.027904002, -0.010704329, -0.008703763, 0.016472196, 0.0028693187, -0.017862199, -0.017823227, -0.0064920974, -0.019356128, -0.012750363, 0.021694453, -0.011626668, -0.0399074, 0.01901837, -0.017758274, -0.0104704965, -0.0057094083, 0.012490549, 0.00052734086, -0.013977983, -0.025916427, -0.031281583, 0.014315741, 0.030943824, 0.01326999, -0.018329864, 0.022058193, 0.00408882, 0.013068634, -0.027332412, -0.0036341457, -0.0030787936, 0.028813351, 0.014289759, 0.03985544, 0.02429259, -0.018122014, 0.024786238, -0.0042317174, 0.025098015, -0.013484336, -0.023552122, 0.008892127, 0.025344837, 0.0046506673, -0.0156278, -0.0048650135, 0.023357261, -0.01582266, 0.009918392, -0.009061007, 0.00028295346, 0.020798095, 0.004878004, 0.032424763, 0.025565678, 0.0045759706, -0.0063004848, 0.010048299, 0.0058977734, -0.014211815, -0.034711126, 0.006368686, 0.0020233, 0.0023431957, -0.018173976, 0.01749846, 0.024123712, 0.026656896, -0.013588262, -0.0069695055, -0.025643623, -0.027228488, -0.0053424216, -0.009574139, -0.0007863427, -0.013458355, 0.028787369, 0.017979115, -0.0113798445, -0.028163817, -0.011464284, -0.0074436655, -0.003510734, 0.02016155, 0.020746132, 0.019473044, -0.010431524, -0.01448462, -0.046013024, -0.0045175124, 0.003371084, 0.0018787786, 0.020356411, -0.00327203, 0.0044363206, -0.6522366, -0.03556851, -0.00017638922, -0.021564545, 0.015173126, 0.010002832, 0.013380411, 0.025149977, -0.006755159, 0.01656313, -0.02016155, 0.017238647, -0.0020233, -0.004829289, -0.0059075165, -0.001933989, 0.01467948, -0.021551555, 0.007450161, 0.013640225, -0.010418533, -0.0019421082, -0.026604934, 0.01582266, 0.007924321, -0.0014167972, 0.020551272, 0.0060179373, 0.02334427, 0.021018937, -0.017953133, 0.036581784, 0.03551655, -0.0027491548, 0.03876422, 0.0057970956, -0.011737089, 0.02220109, 0.027410356, 0.019628933, -0.011886482, -0.0044655497, -0.009171427, -0.018135004, -0.022837633, 0.03008644, 0.039777495, -0.010100261, -0.011425313, -0.042297687, 0.028319705, -0.016199391, 0.020109588, 0.0005902645, 0.010782273, -0.02313642, 0.01582266, -0.00041225145, 0.005089103, 0.014887331, -0.0013144955, 0.018771548, -0.0050144065, -0.009892411, -0.019486036, 0.03177523, 0.005706161, -0.0066057662, 0.01486135, 0.0053716507, -0.012633447, 0.012009894, -0.01903136, 0.009892411, 0.009197408, 0.005771114, 0.03445131, -0.0052222577, -0.014445648, 0.008619323, 0.0029683728, 0.0022343989, 0.0039231884, -0.023266327, 0.01635528, -0.003291516, -0.023941843, -0.0050826077, 0.0463248, 0.017602386, 0.021967256, -0.019291176, 0.0022571324, -0.0023675533, 0.0022961046, 0.027748115, 0.00559574, 0.018173976, 0.00097348983, -0.04723415, -0.02974868, -0.005621721, 0.005501557, 0.015160136, 0.04739004, 0.0019599705, 0.013432374, -0.009768999, 0.0061121196, -0.009626102, -0.009112969, 0.0059529836, -0.021200806, -0.016757991, -0.038088705, -0.02502007, 0.012464567, -0.009820962, 0.020681178, -0.010580917, 0.017771265, 0.018758558, 0.016082475, 0.0128867645, -0.007599554, -0.004920224, -0.005751628, 0.012659428, 0.0036373932, 0.005306697, 0.042063855, -0.009184418, 0.03536066, -0.016264344, 0.037698984, -0.0107627865, 0.005465833, 0.0058360677, 0.028683444, -0.03710141, -0.0006828232, -0.0071383845, -0.0034555236, -0.014991256, -0.013718169, 0.0071643656, -0.028995221, -0.007450161, -0.007021468, 0.02108389, -0.018083042, -0.023721, -0.016887898, 0.010808255, -0.0036081641, -0.011223956, -0.010366571, -0.013977983, 0.0056282165, -0.012243725, 0.001955099, 0.01469247, -0.00056022353, -0.021733426, -0.018433789, 0.0004591397, -0.011600686, 0.04027114, -0.01308812, -0.04422031, -0.013575272, 0.0065895277, -0.0128867645, -0.013848076, -0.00083546375, 0.01232167, -0.021408658, -0.006508336, 0.032450743, -0.014250787, -0.027540263, 0.049728364, -0.0033808271, 0.0078074047, 0.007508619, 0.015017238, 0.011789052, 0.013796113, -0.019356128, 0.015731726, -0.031697284, 0.012256716, -0.0046311812, -0.011431808, -0.012087838, -0.015134154, 0.00063126633, 0.010015822, 0.0062452746, 0.0027247972, -0.0141078895, 0.012406109, 0.018524725, 0.011152508, 0.0110226, -0.02127875, -0.014458639, 0.0011651026, 0.018135004, 0.022525856, 0.01805706, -0.01601752, -0.004653915, 0.0047838218, -0.008989558, 0.006118615, -0.006833103, 0.012256716, -0.010866713, -0.013887048, 0.005102094, -0.001061177, 0.021967256, -0.0005504805, -0.027774096, 0.017732292, 0.013049148, 0.023604084, -0.008028246, -0.01845977, 0.008885632, 0.021525573, 0.026241194, 0.0019031361, -0.012464567, 0.016251354, 0.026864748, -0.017251637, 0.04253152, -0.017654348, 0.013003681, 0.021850342, 0.01712173, -0.010119747, 0.01881052, 0.015095182, 0.027774096, 0.008366005, 0.0069760005, 0.02785204, -0.01025615, -0.010782273, -0.015926586, 0.008366005, 0.028683444, -0.0070149726, -0.0019778325, 0.022759689, 0.017264627, 0.012737372, 0.03536066, -0.0038517397, 0.05331379, 0.01335443, 0.015692754, 0.00884666, -0.022681745, -0.010554936, -0.012561997, -0.034711126, 0.019421082, -0.01938211, -0.011197975, -0.016900888, 0.0025575422, -0.012328166, 0.0066155093, -0.0057906, 0.008275069, 0.036062155, -0.017849209, -0.007151375, 0.00042625703, 0.00940526, -0.0027426595, -0.011444798, 0.006034176, 0.0035269724, -0.009911897, 0.029566811, 0.022915578, 0.03593225, -0.012061856, 0.006229036, 0.0024552406, 0.014237797, 0.02144763, -0.006537565, -0.0009272105, 0.020018654, -0.010873208, 0.03933581, 0.0055989875, 0.008853155, 0.02295455, -0.0055730063, -0.009905402, -0.01807005, 0.011970921, -0.016706027, -0.013770131, -0.005611978, -0.017433507, 0.015653782, -0.015367987, 0.005436604, -0.013081625, -0.03367187, 0.0017098996, -0.01616042, 0.0023529388, -0.021031927, -0.019434072, 0.0025315608, 0.015549856, 0.0023967824, -0.015705744, 0.0017781007, -0.0044882833, 0.0083465185, -0.035048883, 0.006407658, 0.018212948, 0.007852872, -0.019356128, 0.009983346, 0.028241761, 0.0038842163, -0.001834935, -0.008268574, 0.0066902055, -0.0019762088, 0.01861566, -0.013666206, -0.004592209, 0.002836842, -0.012639942, 0.016225372, 0.0006673967, 8.652003e-05, 0.016316308, 0.027748115, 0.024370534, -0.009613111, -0.0018284397, -0.012289193, 0.012769849, -0.017277619, -0.007852872, 0.03720534, 0.0074046934, -0.021018937, 0.01289326, -0.0083595095, 0.023201372, 0.016056493, 0.017745283, 0.02048632, 0.027202506, -0.0011634787, 0.02090202, -0.00930783, 0.041907966, -0.010821245, 0.0035302201, 0.00016187617, -0.02370801, 0.003064179, 0.03746515, 0.013679197, 0.0033483505, -0.022876605, -0.027462319, -0.018745566, 0.023396233, 0.005615226, 0.0034880002, -0.007222824, -0.0051930286, -0.014848359, -0.018135004, -0.002469855, -0.014822378, -0.012659428, -0.007625535, -0.025838483, -0.010866713, 0.010327599, 0.0116916215, 0.007794414, 0.014835368, -0.03180121, 0.0019323652, 0.02485119, -0.0414403, -0.014523592, 0.004036857, 0.0021061157, -0.0018122013, 0.002440626, 0.023967823, -0.011977416, -0.017563414, 0.019525008, 0.0205123, -0.010262646, 0.012146295, 0.0013534676, -0.003708842, -0.00070961646, 0.016108455, 0.00968456, -0.011016105, -0.025279883, 0.04237563, 0.0089505855, 0.0015069201, 0.033022337, 0.005547025, 0.012263211, 0.015082192, -0.0061965594, -0.017472478, 0.004663658, -0.014471629, -0.015640792, 0.011821528, -0.016264344, -0.007917826, -0.01693986, 0.011808538, -0.0016149052, -0.009496194, -0.038504407, 0.004910481, -0.012328166, 0.018758558, -0.018693604, -0.029073166, 0.0022230318, 0.002757274, 2.2518043e-05, -0.002630615, 0.016822943, 0.010132738, -0.0038614827, -0.0053813932, -0.015653782, -0.03634795, 0.0012381752, 0.014237797, 0.01673201, 0.027358394, -0.012568492, -0.009177922, -0.0064109056, -0.0007173297, 0.0026906966, -0.026228204, -0.024916144, -0.013874058, 0.0042219744, -0.014276769, 0.057055112, -0.024760256, 0.0026598438, -0.017784255, -0.010749796, -0.025357828, -0.03213897, -0.011327882, -0.007112403, 0.012159286, 0.030112421, 0.02935896, -0.010606899, 0.028813351, 0.024175676, 0.0026371102, -0.0009881044, 0.004514265, -0.0016019145, -0.030268308, 0.0033191214, 0.03445131, 0.016900888, 0.0058685443, -0.010093766, -0.031385507, 0.026864748, 0.002994354, -0.00014827655, -0.009671569, -0.024097731, -0.014991256, -0.003234682, -0.018914444, -0.019044353, -0.039543662, 0.0031762237, 0.019525008, 0.0156278, -0.007307263, -0.0068850657, 0.026968673, -0.009203904, 0.002481222, -0.020330431, -0.0021239778, -0.007865863, -0.023019504, -0.012393119, -0.022564828, 0.008515397, -0.007281282, -0.0034847527, -0.0022555087, -0.010204188, -0.016680047, 0.03104775, -0.002528313, -0.0010400672, -0.0010774154, -0.014562564, -0.018680613, -0.015108173, -0.027904002, -0.034503274, -0.007580068, 0.016511168, -0.0061770733, 0.036581784, -0.02485119, -0.026591944, -0.008866146, 0.0019908233, 0.029436905, -0.020226505, 0.041830022, 0.0063167233, 0.0027897507, -0.041362356, -0.018186966, -0.010236664, -0.02670886, 0.020174542, 0.036244027, -0.021330714, -0.02652699, -0.0023464435, -0.007606049, 0.008716754, -0.014952284, 0.010295122, -0.011724098, 0.008353014, -0.0083595095, 0.004878004, -0.0141078895, 0.024916144, 0.0016611845, -0.00028782498, 0.014575555, -0.010113252, -0.033204205, 0.031177657, -0.023656048, 0.033749815, 0.01486135, -0.01861566, 0.013822095, 0.01903136, -0.019628933, 0.004598704, 0.012536016, 0.02295455, -0.012581483, 0.017212665, 0.017017804, 0.0058458108, 0.007606049, 0.004403844, 0.011964425, 0.031203639, 0.009424746, 0.01958996, -0.0083595095, 0.0015734973, 0.014939294, 0.01713472, -0.014198825, -0.00414403, -0.028761389, 0.0073852073, 0.0050144065, 0.008112686, -2.4547837e-05, -0.010840731, -0.019602953, -0.009989841, -0.024617359, -0.002252261, 0.010587413, -0.020317439, -0.017914161, -0.00808021, 0.03198308, 0.0006665848, 0.008417968, -0.016134437, 0.0071643656, 0.013101111, -0.03803674, 0.010412038, -0.010606899, 0.007943807, -0.025721567, -0.0030885367, 0.011659144, -0.026072316, 0.0058068386, 0.0008500783, -0.02842363, -0.0014882459, -0.00011255215, -0.0035302201, -0.014055927, -0.0107692825, 0.017797247, -0.00024641716, -0.003291516, -0.028319705, -0.0394917, 0.014640508, -0.023487167, -0.00845694, 0.011737089, -0.032424763, -0.004355129, -0.011048582, 0.006647986, 0.020746132, 0.00019445439, -0.016615093, 0.005745133, 0.037984777, 0.009872925, -0.012438586, -0.016628083, -0.019252203, -0.024409506, 0.021239778, -0.010262646, -0.009444232, 0.030709991, -0.004582466, 0.005751628, 0.020278467, -0.0076320306, -0.035100844, -0.01636827, -0.029618774, -0.0193951, -0.011652649, 7.094135e-05, 0.03832254, -0.011139517, -0.019109305, -0.015562847, -0.002450369, -0.025838483, -0.022551838, -0.015874624, 0.010964143, 0.023240345, 0.020252487, -0.012789335, 0.0027410358, 0.010028813, 0.01768033, -0.032970373, 0.003007345, 0.014029945, 0.028683444, 0.010379561, 0.008229602, -0.046532653, -0.00930783, 0.012048866, -0.00051719183, 0.038452443, 0.022279033, -0.01769332, -0.01317256, 0.0039621606, -0.0070084776, 0.024890162, -0.004176507, 0.024812218, -0.02560465, -0.027696151, -0.011944939, 0.011931949, 0.014068917, 0.0076125446, 0.017654348, -0.0047838218, 0.007222824, -0.0022149128, 0.008275069, -0.026501007, -0.01881052, 0.04422031, 0.007748947, -0.0017017805, 0.0489749, -7.3174124e-05, -0.01541995, 0.023175392, 0.005225505, 0.005491814, -0.0052709724, -0.003897207, -0.020200523, 0.01469247, -0.017212665, 0.0141208805, -0.013419383, -0.0030528123, 0.00087930734, -0.0077684326, -0.03104775, 0.023759972, 0.00256079, -0.0011724099, -0.021876322, 0.005225505, 0.000763609, -0.0070084776, -0.0017310095, -0.026241194, -0.019434072, -0.017095748, 0.013964992, -0.0011845885, -0.032502707, 0.01805706, 0.022993522, -0.009885916, 0.0036341457, 0.17272422, -0.00923638, -0.0002449963, 0.027150543, 0.0070994124, -0.0010303241, 0.011223956, -0.0018933931, 4.5448387e-06, 0.010847227, 0.024175676, 0.04084273, 0.0068655796, -0.0015873, 0.01024316, -0.0032200674, -0.05949736, -0.003332112, -0.021135854, -0.007222824, 0.013731159, -0.0027994937, -0.009476708, -0.02709858, 0.0399074, -0.0052320007, -0.013887048, -0.0116851255, 0.013614244, -0.007131889, 0.0002904637, -0.011587696, -0.015471912, 0.005823077, -0.023552122, -0.019096315, 0.0010132738, 0.0039004548, 0.029878588, 0.02503306, -0.0043096617, -0.015575837, 0.022149127, -0.0006438511, -0.0016790468, -0.018537715, -0.021499593, -0.012854288, 0.0013908158, -0.009820962, -0.027514283, 0.0017326333, 0.023292309, 0.024916144, 0.0055892444, -0.0029959779, 0.0011943316, 0.0026241194, 0.0013534676, 0.017758274, -0.02257782, 0.02164249, -0.003858235, 0.030995788, -0.008892127, 0.004832537, -0.010554936, -0.03707543, 0.03969955, -0.008138668, 0.016745, -0.008898623, 0.016719019, 0.022655765, -0.009080493, -0.009833952, 0.01636827, 0.0078139, 0.005326183, 0.0005378958, -0.012055361, -0.012743867, 0.0030317022, -0.015926586, -0.011366854, -0.013393402, 0.009749513, 0.0048000603, 0.015939577, 0.005277468, -0.0052190097, 0.0032476727, -0.0033288645, 0.0057029133, -0.00800876, 0.0116851255, -0.023980815, -0.008690772, -0.0026565962, 0.012854288, -0.033230186, 0.022512866, -0.011698117, -0.0018284397, -0.025422782, -0.007021468, 0.0070864214, 0.024903154, 0.00079365, -0.009242876, 0.006943524, -0.028683444, -0.0011561714, 0.0014557693, -0.0057483804, -0.003988142, -0.0065505556, -0.026760822, -0.019213231, -0.023045484, -0.01336742, -0.02728045, -0.01326999, 0.0052742204, -0.015718736, 0.008002265, -0.028683444, 0.016082475, 0.022759689, -0.05230052, -0.004751345, 0.0062712557, -0.020460337, 0.008957081, -0.018771548, 0.0026127526, 0.016433224, -0.00902853, 0.007586563, 0.008463435, -0.0031583617, 0.003393818, 0.014822378, -0.018031077, 0.015913596, -0.025318855, -0.010645871, 0.009606616, -0.024006795, -0.02782606, -0.004858518, -0.012354147, 0.0044590547, -0.034191497, 0.006609014, 0.016965842, 0.0042317174, -0.046532653, -0.0017992106, -0.012217744, -0.031879153, -0.025253901, 0.003520477, 0.01844678, -0.024877172, -0.012204753, -0.16399448, 0.021239778, 0.035620473, -0.02144763, -0.01748547, 0.024045767, 0.038296554, -0.0046311812, 0.00676815, -0.007937312, 0.018550705, -0.017108738, -0.031723265, -0.028215779, 0.0076710028, 0.012484053, -0.0069695055, 0.0128867645, 0.0056996653, 0.0113863405, 0.0037543096, -0.020369403, 0.010639375, 0.0015864881, -0.005959479, 0.020213515, -0.014393684, 0.028137835, 0.0018219444, -0.00094507274, 0.0059270025, -0.013783122, 0.024019787, -0.002994354, 0.012510035, 0.0035367154, -0.01788818, 0.017810237, -0.013523309, 0.04458405, -0.011035591, 0.005680179, 0.025877455, 0.046194896, 0.008184135, 0.024656331, 0.0027767601, 0.010496478, -0.0003154302, -0.024344554, 0.011048582, -0.024500443, -0.008125677, 0.0019128792, 0.0153160235, 0.040738806, 0.0037445666, 0.0027800077, 0.0034685144, -0.02709858, -0.034685142, -0.016394252, -0.00091016025, -0.019680897, -0.018498743, -0.026578952, -0.022006229, -0.009950869, -0.032087006, -0.0023269574, -0.022084173, 0.0051540565, 0.025435772, 0.031203639, -0.0017488716, 0.009398764, -0.021096881, 0.012185267, 0.0016774229, -0.0083595095, -0.007417684, 0.048091535, -0.021850342, 0.023357261, -0.0058977734, 0.0035334679, 0.011444798, -0.020044636, -0.008112686, -0.0048455275, 0.0028953, -0.03972553, -0.007852872, -0.0083725, -0.0016952851, 0.0076320306, 0.007547591, 0.015939577, 0.004134287, -0.005514548, 0.0035691923, -0.024422498, -0.03577636, 0.012055361, 0.041362356, 0.008242593, 0.01523808, 0.026462037, 0.03598421, 0.0030203355, -0.005118332, 0.017329581, 0.0028611994, 0.025747549, 0.0004554861, 0.017303599, -0.02334427, -0.023967823, 0.006722682, -0.0049267192, 0.026020354, -0.0076710028, -0.0070864214, 0.027904002, 0.0044298256, -0.003491248, -0.077944145, -0.0274883, 0.0210709, 0.011717603, -0.033204205, 0.00091584364, -0.006703196, 0.0361401, -0.003114518, 0.017394535, -0.024890162, -0.009885916, -0.00057280826, 0.0025559184, 0.018135004, 0.022279033, -0.0014111138, 0.0035074863, -0.01543294, 0.019044353, -0.014523592, -0.031099712, -0.0032671585, 0.0051443134, -0.0242796, 0.003838749, -0.049416587, 0.027462319, 0.0038419967, 0.011068068, -0.0010067784, -0.0150302285, 0.026812784, -0.018888464, -0.017771265, 0.002528313, -0.006891561, 0.004079077, 0.031723265, -0.011789052, -0.008593341, 0.0033808271, 0.022616792, -0.03008644, 0.0037120897, -0.022006229, -0.02691671, 0.035724398, -0.006151092, -0.031723265, 0.010035308, 0.009203904, 0.0037153375, -0.02049931, 0.019408092, 0.0037673002, 0.02974868, 0.008099696, -0.0049364623, 0.0062420266, -0.0026923206, 0.016394252, 0.015484903, 0.0135363, 0.008404977, 0.0011780933, -0.012717886, -0.006170578, 0.016030513, -0.021499593, 0.012146295, 0.015731726, -0.014471629, -0.0011845885, -0.019602953, 0.017290609, -0.005257982, 0.012152791, 0.013419383, -0.024773246, -0.009138951, -0.0041570207, -0.034944955, -0.014666489, 0.019888747, 0.021187816, 0.015004247, 0.009743018, -0.0012349274, -0.053781457, 0.020681178, 0.018667622, 0.03198308, -0.024370534, -0.018511733, 0.015848642, 0.0058880304, 0.01052246, -0.0161864, -0.009327316, -0.029956533, 0.0042219744, -0.06698, 0.032061026, -0.0019145029, 0.0022473894, 0.016524158, 0.0035626967, -0.0044558067, -0.028293723, 0.016121447, 0.03650384, 0.013718169, 0.034918975, -0.0068785707, -0.017433507, 0.0014720076, 0.007300768, 0.01956398, -0.003471762, 0.008203621, -0.0022457656, 0.01391303, -0.0033970654, 0.020551272, -0.009164932, -0.029852606, 0.015367987, -0.019875756, 0.017602386, -0.0002906667, -0.010002832, 0.03691954, -0.03762104, -0.015978549, 0.024942126, 0.0024942125, -0.02049931, -0.017394535, 0.017602386, 0.01882351, -0.021759406, -0.046402745, -0.022110155, -0.014328731, -0.0274883, -0.021668471, -0.005397632, -0.006310228, -0.0010197692, 0.015510884, 0.018498743, 0.0027312927, 0.0274883, -0.009548157, -0.043596756, -0.0080412375, -0.016900888, 0.010340589, 0.010873208, 0.00846993, 0.018901454, 0.033749815, 0.0068590846, 0.016783971, -0.011808538, 0.007969788, 0.0039329315, 0.008249088, 0.0060828906, 0.014003964, -0.017524442, -0.011405827, -0.01903136, 0.030398216, 0.0025250653, 0.012152791, 0.00020845998, 0.0013396649, -0.019135287, -0.034737106, 0.00941825, 0.02803391, -0.0038030245, -0.0057483804, -0.0060926336, 0.0009044768, 0.02048632, -0.009710541, 0.013471346, 0.0104769915, 0.016524158, -0.026838766, -0.0022944806, -0.017212665, 0.026656896, 0.011133022, -0.009704046, -0.017342571, -0.013419383, 0.025266893, 0.012607465, 0.0032882686, -0.012328166, -0.0012820187, 0.008216612, -0.022824643, -0.004238213, -0.038296554, -0.0210709, -0.002745907, 0.0033743319, -0.0010457506, -0.0042999187, -0.018433789, 0.014393684, -0.02294156, 0.0016790468, -0.0026501007, -0.0005346481, -0.023422215, 0.029592793, -0.0012000151, 0.008366005, 0.019550988, -0.0144066755, 0.02561764, 0.008216612, -0.00503714, -0.013484336, 0.0034750097, -0.026267176, 0.0057126563, -0.02049931, -0.006378429, 0.009392269, -0.016796963, -0.035464585, -0.001250354, 0.02709858, 0.0018674118, 0.064849526, 0.0059854607, -0.006937029, 0.011016105, 0.0009402012, 0.012159286, 0.02014856, -0.0015734973, -0.017407525, -0.022110155, 0.015147145, -0.030761955, -0.006657729, -0.0041927453, -0.025695585, 0.020187533, 0.009177922, 0.0039913896, -0.00042382127, -0.03892011, 0.0026728346, -0.0012552255, 0.004176507, -0.01024316, 0.0032866446, 0.013770131, 0.012834802, 0.009398764, -0.005147561, -0.05471679, 0.023201372, 0.013062139, -0.01658911, -0.010217178, 0.005215762, -0.03406159, -0.02446147, -0.0055795014, 0.011646154, -0.007346235, 0.026319139, 0.02048632, -0.018031077, -0.012289193, -0.002767017, 0.0018268158, 0.0016416985, -0.011269424, -0.051027432]}, page_content='26E8185C-782A-4B48-87FA-1E715E3825FB'),\n",
       " Document(metadata={'categoryId': '75BF1ACB-168D-469C-9AA3-1FD26BB4EA4C', 'categoryName': 'Bikes, Touring Bikes', 'sku': 'BK-T18Y-62', 'name': 'Touring-3000 Yellow, 62', 'description': 'The product called \"Touring-3000 Yellow, 62\"', 'price': 742.35, 'tags': [{'_id': 'A4D9E596-B630-4792-BDD1-7D6459827820', 'name': 'Tag-164'}], 'contentVector': [0.018264744, 0.012311405, 0.00074865547, -0.0062177163, -0.026293922, 0.021045582, -0.014896408, -0.006801953, -8.52692e-05, -0.040472273, 0.007232787, -0.0038644492, -0.02143725, -0.0087929275, -0.014282796, 0.026894478, 0.02376114, -0.020183913, 0.00810751, -0.024335586, 0.00487952, 0.004912159, -0.02376114, 0.01748141, -0.0047750752, -0.00396563, 0.018708635, -0.021424193, -0.00076456694, -0.008949595, 0.0070695924, 0.0052059093, -0.030027816, -0.044101723, -0.0017445508, 0.008649317, 0.005728132, -0.021672249, 0.018943636, -0.010699041, 0.0054474375, 0.016136687, 0.01553613, -0.030785039, -0.01577113, 0.0019305927, 0.01778169, 0.007298065, -0.0060316743, 0.02270364, -0.011306126, 0.03454504, -0.004572714, 0.007500426, -0.003593546, -0.00810751, 0.030550038, 0.040106717, 0.018617246, -0.0058423686, 0.008414316, -0.01244196, -0.016528355, -0.009354318, -0.021502526, -0.027103368, 0.011018903, -0.0026388576, 0.015562242, -0.00816626, 0.032560598, 0.025118921, -0.006309105, -0.024022253, 0.03154226, 0.0027596215, -0.030497815, -0.013878073, 0.0034891015, -0.0032279901, 0.013590851, -0.018891413, -0.021424193, 0.016345575, 0.0037306298, 0.008466538, -0.02284725, 0.030628372, 0.003203511, -0.0010615812, -0.0029978857, 0.023930863, 0.0010795326, -0.00030048215, 0.006335216, 0.015209741, -0.011795709, 0.027756145, -0.023787253, -0.0067954254, -0.0052907704, 0.014739741, 0.009870012, -0.011090708, -0.008695011, 0.0028412188, -0.0087929275, -0.0076701487, 0.016450021, -0.007963899, -0.024440031, 0.026698645, -0.0045563946, -0.009621956, 0.010326957, 0.016998354, -0.0065114666, -0.027025035, -0.018565023, -0.029401148, 0.01379974, 0.034179486, 0.016933076, -0.024596697, 0.007435148, 0.011018903, 0.0016743771, -0.03266504, 0.0068868143, 0.0021150026, 0.02282114, 0.015131408, 0.027703924, 0.018316967, -0.014165295, 0.033213373, -0.009171539, 0.023278086, -0.008695011, -0.030236704, 0.00816626, 0.015810298, 0.0074677872, -0.013760573, 0.006433133, 0.018199468, -0.022742806, 0.014047795, -0.015261964, 0.0066844528, 0.020392803, 0.0047424366, 0.03699949, 0.030889483, -0.0076897317, -0.0068150084, 0.0025197254, 0.008094454, -0.008988761, -0.04065505, 0.0060316743, 0.008114038, -0.0077288984, -0.01904808, 0.021972528, 0.02408753, 0.035354488, -0.0070238975, -0.012311405, -0.03814838, -0.025393087, -0.011325709, -0.006893342, -0.014256685, -0.023552252, 0.03449282, 0.015170574, -0.006622439, -0.01518363, -0.0089691775, -0.007506954, 0.009543623, 0.010281263, 0.027965035, 0.017938355, -0.0012753662, -0.0140739065, -0.04183005, -0.00070826476, -0.010653347, -0.005741188, 0.015470853, -0.0023989615, 0.01203071, -0.66008973, -0.03334393, -0.0016343944, -0.017860023, -0.000579749, 0.013381961, 0.008205427, 0.01972697, -0.013460294, 0.016123632, -0.015758075, 0.02715559, -0.00085514, -0.0015340297, 3.4321874e-05, -0.0054245903, 0.024466142, -0.016632799, 0.019152524, 0.011175569, -0.012918488, -0.0045237555, -0.023003917, 0.014726685, 0.0056236875, -0.0029456634, 0.00964154, 0.0009677443, 0.018147245, 0.012167793, -0.019831413, 0.043501165, 0.029061703, -0.013003349, 0.034571156, -0.0018261481, -0.0060055633, 0.015601409, 0.017155021, 0.024870865, -0.0113975145, 0.0042006304, -0.002405489, -0.017037522, -0.012115571, 0.03198615, 0.025654199, -0.009465289, -0.01049668, -0.04316172, 0.04201283, -0.00958279, 0.020745303, 0.007657093, 0.011364875, -0.02043197, 0.008714594, -0.0031855595, 0.0153402975, 0.012461543, -0.013303628, 0.020849748, -0.014465574, -0.0001098504, -0.009458762, 0.0255367, -0.0021296903, -0.0073959813, 0.0039884774, -0.0059076464, -0.0070369532, 0.02668559, -0.031855594, -0.009008344, 0.0009661123, 0.018095022, 0.037835047, -0.013068628, -0.001741287, 0.012605155, -0.0012117203, -0.0024495516, 0.010248624, -0.025823921, 0.022625307, -0.0039395187, -0.03519782, 0.0073307035, 0.034727823, 0.018982802, 0.007950843, -0.014726685, -0.003570699, -0.00044960127, -0.013590851, 0.024165863, 0.0020301414, 0.007108759, 0.0051765344, -0.03995005, -0.02453142, 0.0013006614, 0.004115769, 0.01595391, 0.037573937, -0.0020040304, 0.0042822277, 0.011423625, 0.011834876, -0.0072393147, 0.0021623292, -0.0014157136, -0.029583925, -0.024400864, -0.01759891, -0.019230857, 0.017376967, -0.010659874, 0.005405007, -0.0033324347, 0.0108165415, 0.016671965, 0.018434467, 0.0145308515, -0.009040983, 0.0024283363, -0.0023663223, 0.014609185, -0.017207244, 0.017141966, 0.027312256, 0.00097100815, 0.038200602, -0.021685304, 0.037077826, -0.0100593185, 0.011299597, 0.0011497063, 0.023695864, -0.040237274, -0.0086689, -0.03376171, -0.00311049, -0.018800024, -0.0019224329, -0.0025246213, -0.020353636, -0.012487655, -0.018826135, 0.008773345, -0.023317251, -0.01188057, -0.003932991, 0.0074025095, -0.00152587, -0.011893626, -0.010738208, -0.015157519, -0.002134586, -0.009739457, 0.00030497, 0.023447808, -0.007918204, -0.0176903, -0.022298917, -0.0026502812, -0.021528639, 0.037756715, -0.010653347, -0.048723396, -0.021698361, 0.011560709, -0.009491401, -0.016841687, -0.0012468072, 0.006429869, -0.031751152, 0.0015470852, 0.022533918, -0.009732929, -0.02462281, 0.03950616, -0.009321678, 0.010033207, 0.0036425046, 0.0067562587, 0.010346541, 0.018747801, -0.01937447, 0.020471137, -0.03130726, 0.018356133, -0.0051014647, -0.006828064, -0.010300846, -0.014739741, -0.011201681, 0.013956406, -0.0012459911, -0.0012941336, -0.007781121, 0.007474315, 0.022625307, 0.008068344, -0.0021966, -0.026137255, -0.0067954254, 0.0026355935, 0.018578079, 0.022429472, 0.026085032, -0.024231141, 0.0030305246, 0.005555146, -0.01621502, 0.0119784875, -0.004455214, 0.018551968, -0.011867515, -0.017442245, -0.0029358717, -0.00063278724, 0.012755293, -0.006566953, -0.026607256, 0.018499745, 0.012089459, 0.013851962, -0.020771416, -0.010581541, 0.012337515, 0.021881139, 0.012037237, 0.0125072375, -0.003508685, 0.015758075, 0.023238918, -0.01689391, 0.04747006, -0.016580576, 0.012703071, 0.024139753, 0.022899473, -0.02467503, 0.021998638, 0.023330307, 0.016358633, 0.010000568, 0.0123309875, 0.021489471, -0.011900154, -0.009275984, -0.01916558, 0.011887099, 0.034283932, -0.0026976075, -0.0060186186, 0.025497532, 0.008153205, 0.017729467, 0.026894478, -0.007937788, 0.054467846, 0.005489868, 0.021620028, 0.010209457, -0.018891413, -0.012846683, -0.0044323667, -0.026972812, 0.016528355, -0.021776695, -0.011691265, -0.01748141, 0.014113073, -0.022076972, 0.018943636, -0.0034793098, 0.01553613, 0.047339503, -0.011110292, -0.021293638, 0.0051145204, 0.009165011, -0.0006250355, -0.018225579, 0.0063645914, 0.00507209, -0.010313902, 0.02491003, 0.024440031, 0.025654199, -0.00725237, -0.0015103664, 0.008923483, 0.012141682, 0.0122591825, -0.011358348, -0.010483624, 0.0337356, -0.0030729552, 0.027886702, -0.002988094, -0.0074938983, 0.018878357, -0.003691463, -0.018343078, -0.0262417, 0.015092242, -0.014805019, 0.0014116337, -0.0044486863, -0.021567805, 0.0051634787, -0.021868084, 0.005463757, 0.00048917596, -0.018682523, -0.0036163935, -0.022533918, -0.008570983, -0.016280299, -0.016489187, -0.002046461, 0.008388205, -4.9564e-06, -0.02924448, 0.006984731, -0.0070957034, 0.010176818, -0.03015837, 0.021123916, 0.02399614, 0.011110292, -0.030497815, 0.008773345, 0.025667254, 0.016423909, -0.00861015, -0.016280299, 0.014217518, -0.0019338566, 0.011005847, -0.011110292, -0.0009114421, -8.175032e-05, -0.004491117, 0.024191976, 0.0077354265, -0.0052385484, 0.0051079923, 0.027965035, 0.02305614, -0.014922519, -0.0052287565, -0.016188908, 0.014086962, -0.004853409, -0.019648636, 0.037103936, 0.0065375776, -0.020210026, 0.0050786175, -0.005196118, 0.021032527, 0.022951696, 0.011031958, 0.022716695, 0.023539197, -0.0006021882, 0.010529319, -0.019230857, 0.0337356, -0.013153489, -0.0007955739, 0.0009701922, -0.02087586, 0.006446189, 0.037991714, 0.01096668, -0.009321678, -0.021150026, -0.032273374, -0.031437818, 0.01996197, 0.0034858377, 0.0022063917, 0.002159065, -0.0035413238, -0.004278964, -0.022103084, -0.002469135, -0.0042593805, -0.01079043, -0.015222797, -0.0141783515, -0.01654141, 0.0029766704, 0.018264744, 0.004752228, 0.009171539, -0.024309475, 0.0064233416, 0.037756715, -0.033944488, -0.018499745, -0.006743203, -0.010483624, 0.00017247634, 0.0072066756, 0.023695864, -0.00414188, -0.0077745933, 0.027886702, 0.015314186, -0.021306694, 0.009674178, 0.002108475, -0.0060577854, -0.003724102, 0.021881139, 0.005124312, -0.005000284, -0.024453087, 0.03637282, 0.0012769981, 0.0029211843, 0.02544531, 0.01621502, 0.0038448658, 0.005728132, -0.0056987572, -0.003358546, 0.007885565, -0.011390987, -0.011567237, 0.008362094, -0.014778907, -0.015875576, -0.014896408, 0.010444458, -0.0040668105, -0.0026339616, -0.03493671, -0.005861952, -0.012370154, 0.023421695, -0.0127879325, -0.0073568146, 0.0024593433, 0.00280858, -0.008910428, -0.00058627676, 0.0076113986, 0.014008629, 0.0046282, -0.020823637, -0.026998922, -0.03746949, 0.0030158372, 0.015966965, 0.013460294, 0.026633367, -0.010405291, -0.009987513, 0.0022537182, -0.014831129, 4.1053652e-05, -0.031751152, -0.02317364, -0.013127377, 0.0051700063, 0.015718909, 0.062457856, -0.013616961, 0.0045237555, -0.020157803, -0.007108759, -0.023813363, -0.03493671, -0.0059076464, -0.0071218144, 0.012056821, 0.03637282, 0.02385253, -0.004057019, 0.021802805, 0.01692002, 0.010450985, 0.009367373, 0.0020072942, 0.012344044, -0.02181586, -0.0031855595, 0.03334393, 0.010770847, 0.013865017, -0.011867515, -0.03446671, 0.03130726, 0.006136119, 0.0034988932, -0.01848669, -0.023591418, -0.01586252, -0.0025213573, -0.018669467, -0.020954194, -0.03010615, 0.00063401123, 0.01621502, 0.02488392, -0.00548334, -0.006704036, 0.019256968, -0.016123632, -0.00076334295, -0.013786684, 0.004363825, -0.005222229, -0.028643925, -0.016201966, -0.019544192, 0.007506954, -0.003724102, -0.0035641713, 0.009765568, 0.000456945, -0.012056821, 0.029479481, 0.012115571, -0.014256685, -0.0056987572, -0.016593631, -0.033422265, -0.026515868, -0.029113926, -0.028696148, -0.0033046918, 0.014230574, -0.0030941705, 0.02568031, -0.02134586, -0.019896692, -0.012396266, 0.006345008, 0.040106717, -2.5817904e-05, 0.034858376, 0.010118068, 0.0016335784, -0.03404893, -0.0013439079, -0.003662088, -0.022207528, 0.019583357, 0.024231141, -0.023186697, -0.03010615, -0.00091878587, -0.005369104, -0.002163961, -0.011273487, 0.011710848, -0.014961685, 0.021502526, -0.0067236195, 0.0015421894, -0.015810298, 0.026254755, 0.009856957, 0.009739457, 0.019935858, 0.0037143102, -0.025667254, 0.040211163, -0.03243004, 0.02739059, 0.014400296, -0.010999319, 0.011834876, 0.016136687, -0.019113358, -0.011182098, 0.009471818, 0.019896692, -0.019687802, 0.015248908, 0.0140739065, 0.0016319465, 0.011567237, 0.010242096, 0.0090736225, 0.026541978, 0.007748482, 0.0065375776, -0.005431118, 0.0009359213, 0.009530568, -0.005891327, -0.008473067, -0.009569734, -0.037991714, 0.0063678552, 0.0044486863, 0.011136403, 0.00810751, -0.011299597, -0.017115856, -0.014543907, -0.023891697, -0.003174136, -0.002529517, -0.020745303, -0.019922802, -0.005790146, 0.021280583, 0.01598002, 0.006710564, -0.016384743, 0.010561958, 0.016450021, -0.021763638, 0.0070369532, -0.00810751, -0.0011480744, -0.032482263, -0.012970711, 0.010039735, -0.0011431786, 0.0046934783, -0.012448488, -0.025575865, -0.002227607, 0.0047457004, -0.003020733, -0.015470853, -0.018995857, 0.023917807, -0.00013871545, -0.0023532668, -0.022912528, -0.037103936, 0.014491685, -0.025667254, -0.02202475, 0.011162514, -0.03454504, 0.0026812882, -0.02340864, -0.0007176485, 0.010986264, -0.0087929275, -0.009465289, 0.0032181984, 0.030941706, 0.020327525, -0.0124354325, -0.016580576, -0.024022253, -0.017703356, 0.018565023, -0.009667651, 0.0031039622, 0.026515868, -0.006371119, 0.0031349692, 0.01951808, -0.009856957, -0.03950616, -0.017559744, -0.021998638, -0.031385597, -0.0039525745, 0.008074871, 0.029688371, -0.0117500145, -0.012409321, -0.015366408, 0.009432651, -0.034832265, -0.01244196, 0.0027367743, 0.010705569, 0.019270023, 0.011501959, -0.033213373, 0.0026339616, 0.007409037, 0.015666686, -0.024544476, -0.0040178522, 0.01621502, 0.024805587, 0.017350854, 0.0020366693, -0.038409494, -0.013486406, 0.009191123, 0.009661123, 0.028617814, 0.015196686, -0.015431686, -0.007970426, 0.0015299498, -0.012363627, 0.016110577, -0.007624454, 0.022076972, -0.024218086, -0.02827837, -0.026424477, 0.010065846, 0.01621502, 0.009334734, 0.015275019, -0.016110577, 0.0056106322, -0.0048632007, -0.0034009765, -0.02851337, -0.011018903, 0.04308339, 0.009837373, -0.004047227, 0.033500597, 0.0050166035, -0.017442245, 0.012925017, 0.021528639, 0.0034629905, -0.008362094, -0.0055714655, -0.0137736285, 0.022076972, -0.018538913, 0.012076404, -0.0119784875, 0.00041104652, -0.017442245, -0.011652098, -0.034179486, 0.018747801, 0.0007355999, -0.01598002, -0.02467503, 0.001131755, 0.00431813, -0.008225011, -0.0064494526, -0.03835727, -0.02125447, -0.026006699, 0.0031839276, -0.00067236193, -0.02736448, 0.0035282683, 0.01551002, -0.006991259, 0.0057803546, 0.16418688, -0.006185077, -0.0078594545, 0.034336153, 0.009517512, 0.0061393827, 0.012931544, -0.006211188, -0.0012957655, -0.0004451134, 0.012109043, 0.043266166, 0.008479594, -0.007820288, 0.015379463, 0.0006919453, -0.050237842, -0.005405007, -0.014230574, -0.0043964637, 0.0076048705, -0.016698077, 0.007905149, -0.019491969, 0.036398936, -0.0067497306, -0.010842652, -0.0123309875, 0.010013624, -0.007435148, 0.003079483, -0.027129479, -0.009608901, 0.0058423686, -0.02293864, -0.014387241, 0.00069969706, 0.015222797, 0.02111086, 0.01818641, -0.0018179883, -0.009093205, 0.010424874, -0.010770847, -0.0014924151, -0.0040406995, -0.025105866, -0.011436681, 0.0029130245, -0.0016001236, -0.022246694, 0.0008029177, 0.02806948, 0.0257717, 0.000824133, -0.0033454902, 0.009980985, -0.0007780305, -0.003141497, 0.030576149, -0.014335018, 0.021672249, 0.0019224329, 0.021502526, -0.0043736165, 0.0025850032, -0.010862236, -0.037782826, 0.037521712, -0.012011127, 0.016188908, -0.00051365513, 0.01043793, 0.031620596, -0.0019779191, -0.008499177, 0.00987654, 0.00952404, 0.003998269, -0.0029489272, -0.0032867403, -0.012846683, 0.0055486183, -0.023708919, -0.00072417624, -0.029401148, 0.015079185, 0.0018196204, 0.01783391, 0.0076897317, -0.0017429189, 0.0050459784, 0.006064313, 0.011906682, -0.00952404, 0.01778169, -0.020706138, -0.0014393769, -0.015927797, -0.0022292389, -0.040341716, 0.027286146, -0.0089691775, 0.0023271558, -0.023891697, -0.009798206, 0.013329739, 0.023108363, -0.00664855, -0.0015177103, 0.0059207017, -0.024505308, 0.00010719849, -0.0042202137, -0.010503207, -0.00082494895, 0.0028477467, -0.026920589, -0.024100585, -0.018969746, -0.011593348, -0.017912244, 0.0038024352, 0.003170872, -0.025314754, 0.0061197993, -0.025823921, 0.015483908, 0.017429188, -0.05292729, -0.0008763553, 0.022808084, -0.015314186, 0.01609752, -0.028748369, 0.0014834394, 0.0112212645, -0.0037436853, 0.008087927, 0.0039264634, 0.0054245903, 0.0073959813, 0.012468072, -0.0145308515, 0.011280014, -0.040237274, -0.015523075, 0.008251121, -0.015431686, -0.032038372, 0.011501959, -0.024283364, -0.00060259626, -0.025732532, 0.010646819, 0.017233355, 0.0058717434, -0.04953284, -0.0016629535, -0.013551684, -0.03470171, -0.03154226, 0.013146961, 0.019296136, -0.028408924, -0.007852927, -0.1654402, 0.017768633, 0.036581714, -0.00408313, -0.014426407, 0.0149355745, 0.03652949, 0.0009685602, 0.010862236, -0.016045298, 0.03378782, -0.015470853, -0.034753934, -0.036607824, 0.0066126473, 0.021411138, 0.006583272, 0.0176903, 0.019204747, 0.0130621, 0.018591134, -0.015079185, 0.013851962, -0.0096545955, -0.013081683, 0.019740025, -0.0003598442, 0.020405859, -0.0010966681, 0.0048272978, 0.00775501, -0.012043765, 0.020915026, 0.00017880014, 0.027756145, 0.003020733, -0.012931544, 0.011900154, -0.009706818, 0.042273942, -0.011031958, -0.0069129253, 0.012683488, 0.03423171, 0.010078901, 0.038931716, -0.0031039622, 0.00884515, 0.0014051059, -0.022325028, 0.026541978, -0.028487258, -0.00042838595, -0.004184311, 0.012089459, 0.03172504, 0.008988761, -0.011449737, -1.5618238e-06, -0.02373503, -0.035928935, -0.016397798, -0.010150707, -0.01462224, -0.01996197, -0.029348927, -0.0073959813, -0.0059663965, -0.038670603, -0.0013789948, -0.028408924, 0.011932793, 0.0153925195, 0.034806155, -0.0016955924, 0.010091957, -0.009504456, 0.006250355, 0.006286258, -0.007572232, -0.01203071, 0.058541186, -0.03404893, 0.030497815, -0.019465858, 0.0077615376, -0.00037432773, -0.026607256, -0.0045955614, -0.007715843, 0.013851962, -0.042300053, -0.013930296, 0.0028738577, 0.015222797, 0.012317932, 0.005884799, 0.019322246, 0.0073698703, -0.017964467, 0.000579749, -0.023460863, -0.033631153, 0.011443209, 0.043344498, 0.013447239, 0.0023304196, 0.023500029, 0.036111712, 0.019217802, 0.005858688, 0.00987654, -0.0030713233, 0.015901687, 0.0038481299, 0.026920589, -0.023787253, -0.02364364, 0.00908015, 0.0031512887, 0.022599194, -0.0069455644, -0.013029461, 0.035485044, -0.0091976505, -0.012187377, -0.07384232, -0.028852815, 0.012598627, 0.02284725, -0.030863373, 0.007559176, -0.0045629223, 0.02441392, -0.006465772, 0.018212523, -0.038905606, -0.013323211, -0.012402793, 0.0069325087, 0.02579781, 0.012526821, -0.0014801754, 0.012415849, -0.015601409, 0.0173378, -0.011723904, -0.038879495, 0.0063907024, 0.010450985, -0.013460294, 0.0007388638, -0.044623945, 0.029479481, 0.024165863, 0.016071409, 0.0018832663, -0.018303912, 0.0261242, -0.008218482, -0.029583925, -0.005192854, -0.007996538, 0.00071275263, 0.028173923, -0.015131408, -0.01551002, 0.004177783, 0.02272975, -0.029975593, 0.008414316, -0.019152524, -0.028565591, 0.032926153, -0.013760573, -0.026254755, 0.017207244, 0.0072393147, 0.009667651, -0.025301699, 0.0069977865, 0.008825567, 0.026894478, 0.005861952, -0.0046836864, 0.0008600358, -0.0020350374, 0.016724188, 0.014870296, 0.00390688, 0.011717376, -0.00035760028, -0.016410854, -0.00923029, 0.013943351, -0.028408924, 0.013199183, 0.013812795, -0.01748141, 0.0018294121, -0.0062405635, 0.02373503, -0.0039493106, 0.0064004944, 0.009739457, -0.018760856, -0.012402793, -0.0042202137, -0.03201226, -0.014374184, 0.031437818, 0.017951412, 0.006335216, 0.0073959813, -0.006710564, -0.05185673, 0.021411138, 0.017324744, 0.025732532, -0.022364195, -0.023395585, 0.017951412, 0.0017625022, -0.006860703, -0.012918488, -0.002317364, -0.031359483, -0.00058627676, -0.06731453, 0.02031447, 0.009850429, 0.009158484, 0.015692798, 0.006136119, 0.0032312542, -0.017037522, 0.013812795, 0.03673838, 0.009354318, 0.035693932, -0.006717092, -0.020210026, 0.0010648451, 0.00068174565, 0.028382814, -0.0053560482, 0.023460863, -0.0009334734, 0.0127357105, -0.0052875066, 0.026372256, -0.011547653, -0.018760856, 0.01727252, -0.01220696, 0.019896692, 0.0017037521, -0.010033207, 0.046712838, -0.028748369, 0.0016229708, 0.015053075, -0.005790146, -0.027965035, -0.0090214005, 0.009034456, 0.015810298, -0.028435037, -0.039793383, -0.01963558, -0.0069325087, -0.027233923, -0.038540047, -0.002345107, 0.0056857015, 0.010548902, 0.01232446, 0.00861015, -0.0032165665, 0.026111145, 0.0040733386, -0.03945394, -0.011260431, -0.015496964, 0.0023712183, 0.01677641, 0.016580576, 0.022755861, 0.029949483, 0.003446671, 0.014752796, -0.008714594, 0.0012019286, -0.0054115346, -0.0067888973, 0.0070630643, 0.023878641, -0.025340864, -0.0036066019, -0.0042985473, 0.02146336, -0.004367089, 0.0130621, -0.011142931, 0.00032842922, -0.020092525, -0.024962254, 0.016972244, 0.020771416, 0.0050492426, -0.000213377, -0.0075200093, 0.0082641775, 0.02853948, -0.0068215365, 0.0130621, 0.003972158, 0.022390306, -0.030184483, 0.0055682017, -0.016972244, 0.02989726, 0.014896408, -0.009393484, -0.011756542, 0.001494047, 0.019439748, 0.010424874, -0.0002378562, -0.013721406, 0.0028461148, 0.007820288, -0.020131692, -0.0043507693, -0.033213373, -0.021332804, -0.007865982, 0.0059043826, -0.010450985, -0.0043148664, -0.021450305, 0.0127879325, -0.018852245, -0.00028171478, 0.0039427825, 0.00445195, -0.022338083, 0.034075044, -0.0074808425, 0.00781376, 0.0133689055, -0.005222229, 0.034075044, 0.017076688, 0.00999404, -0.007409037, -0.0051145204, -0.00884515, 0.004553131, -0.01323835, -0.018995857, 0.0067823697, -0.013349323, -0.04062894, 0.011142931, 0.019896692, 0.010986264, 0.055355623, -0.0027579896, -0.0026453852, 0.009589317, 0.0022031278, 0.018865302, 0.017559744, 0.0040406995, -0.015496964, -0.0274167, 0.020471137, -0.024635864, -0.0046314644, -0.006730147, -0.03767838, 0.017755577, 0.0069977865, 0.004788131, 0.00019705754, -0.025158087, -0.0050818813, -0.00035066452, -0.0006580824, -0.013538628, -0.0004822402, 0.01586252, 0.016032243, 0.015366408, -0.0063613276, -0.050237842, 0.014726685, 0.006234036, -0.018800024, -0.008192372, 0.0019730234, -0.03149004, -0.025406143, -0.004292019, 0.004504172, -0.0039884774, 0.026972812, 0.030184483, -0.018656412, -0.011723904, -0.007794176, 0.00038921923, 0.0055388263, -0.024570586, -0.053162288]}, page_content='DA96F0D0-84C7-42C3-BE74-FEB39BD60EF5'),\n",
       " Document(metadata={'categoryId': 'F3FBB167-11D8-41E4-84B4-5AAA92B1E737', 'categoryName': 'Components, Touring Frames', 'sku': 'FR-T98Y-60', 'name': 'HL Touring Frame - Yellow, 60', 'description': 'The product called \"HL Touring Frame - Yellow, 60\"', 'price': 1003.91, 'tags': [{'_id': '7019202D-B11A-4FAB-ACBC-2D0E5A4F72EF', 'name': 'Tag-143'}, {'_id': '762CE1E0-5615-418E-B476-BCD46AD5E79E', 'name': 'Tag-137'}, {'_id': 'C1CB0EFE-02BB-4AE5-AA48-3DAC12921450', 'name': 'Tag-109'}], 'contentVector': [0.0164781, 0.022336112, -0.015525686, -0.020405186, -0.02010511, 0.008004208, -0.009282794, -0.010326538, 0.01595623, -0.03809664, 0.0030333798, -0.007443196, -0.0036270088, -0.01428624, -0.015564825, 0.024149617, 0.023249388, -0.009087092, 0.010287398, -0.03386948, -0.0036302705, -0.009648104, -0.021240182, 0.008062919, -0.011057158, 0.0017939343, 0.008010732, -0.0048566693, -0.0046120416, -0.008878344, 0.001119578, -0.0154082645, -0.032329958, -0.042845674, -0.008128153, 0.010209117, 0.009093616, -0.0012133518, 0.019400584, 0.0025261855, 0.012746718, 0.01664771, -0.0008464108, -0.03324323, -0.0019863744, 0.0018249204, 0.020744404, 0.01774364, -0.013829602, 0.022349158, 0.0032616986, 0.0455855, 0.0016528658, 0.0015794776, 0.001211721, -0.0060439277, 0.0155387325, 0.043811135, 0.029433569, -0.002617513, 0.014051397, -0.0005777284, -0.033112764, -0.0065657995, -0.022649236, -0.0170913, 0.018487308, -0.0026533918, 0.0098764235, 0.0035095876, 0.019126602, 0.020261671, -0.012414025, -0.01953105, 0.033034485, -0.00081542466, -0.028285451, -0.02047042, 0.009452403, -0.002014099, 0.017208721, -0.016452007, -0.029042164, 0.012316174, 0.0068560904, 0.015095141, -0.008395612, 0.020379093, 0.0018037193, -0.014534129, -0.012022621, 0.023497276, -0.0016186179, -0.012159612, 0.00923713, -0.00038345344, 0.0010209116, 0.017443564, -0.01872215, -0.016217165, -0.0131903095, 0.01876129, 0.005580766, -0.015395218, -0.008460846, -0.0015036431, -0.013125075, -0.0031589551, 0.016791224, -0.015173422, -0.021618538, 0.020092063, -0.003150801, -0.013868743, -0.0022228477, 0.00921756, 0.00040710077, -0.021605492, -0.013738275, -0.02609359, 0.011076729, 0.0366354, 0.017065207, -0.013105505, 0.010463529, 0.008278191, 0.009556777, -0.03561775, -0.00024788908, 0.00026888627, 0.036035247, 0.0020043137, 0.025506483, 0.017547939, -0.016347634, 0.032825734, -0.014364521, 0.02515422, -0.016230213, -0.020405186, 0.019309256, 0.026471946, 0.0036628875, -0.016869506, -0.010593997, 0.013262067, -0.020000735, 0.011709498, -0.010176499, 0.007684562, 0.026132729, 0.0050230157, 0.041306153, 0.03321714, 9.076696e-05, 0.008330379, 0.0027512428, 0.0031866794, -0.005531841, -0.037339926, 0.0043184888, -0.0049838754, -0.00393687, -0.015525686, 0.017169582, 0.02531078, 0.032016832, -0.011990004, -0.006591893, -0.023901727, -0.02458016, 0.0059134597, -0.007886787, -0.0055220556, -0.017560985, 0.02885951, 0.008323855, -0.0043543675, -0.016217165, -0.018095903, -0.017600127, 0.0073583922, 0.013568666, 0.018056763, 0.013014178, -0.016660757, -0.006829997, -0.050438907, 0.007554094, -0.007736749, -0.003819449, 0.014116632, 0.0014710261, 0.014455848, -0.65463597, -0.03561775, -0.0011220244, -0.014951627, 0.0037835704, 0.005163269, 0.0038520661, 0.016112791, -0.023940869, 0.004178236, -0.02014425, 0.02344509, 0.006634295, -0.002229371, -0.0075019067, -0.014207959, 0.035878684, -0.018422075, 0.016452007, 0.02010511, -0.012518399, 0.00055652735, -0.013673041, 0.0070256987, 0.005466607, -0.0076780384, 0.028154982, 0.009732909, 0.0077693663, 0.009054475, -0.019230975, 0.03227777, 0.0145732695, 0.0012598311, 0.041253965, 0.00026684772, -0.010019938, 0.017508797, 0.020052923, 0.024632348, -0.021788146, -0.0032078805, -0.0019260331, -0.018487308, -0.020183392, 0.029511848, 0.02384954, 0.000952416, -0.007110503, -0.035591654, 0.033399794, -0.030346844, 0.013947023, 0.00818034, -0.0032111423, -0.018487308, 0.014755924, -0.0025702184, 0.014625456, 0.009954704, -0.014925533, 0.017195676, -0.0022261094, 0.007534524, -0.008650024, 0.018043717, -0.008610885, 0.0057927766, 0.023706026, -0.0001938672, -0.0034019516, 0.028989978, -0.037705235, 0.0008415182, 0.005825394, 0.014899439, 0.03512197, -0.0152647495, -0.00041831285, 0.022649236, 0.0055611962, -0.0004207591, -0.007919405, -0.02304064, 0.011448562, -0.017404424, -0.03402604, -0.0013209879, 0.03243433, 0.021957755, 0.018252466, -0.015029907, 0.007456243, 0.0016137254, -0.027319988, 0.012348791, 0.0014995659, 0.010065602, -0.002509877, -0.034808848, -0.023562511, -0.0049186414, 0.012792382, 0.008669595, 0.04689018, -0.014534129, 0.0048207906, 0.0007277665, 0.01941363, -0.017026067, -0.019961596, -0.00058343634, -0.026354525, -0.014886392, -0.021135807, -0.01766536, 0.016386773, -0.017795827, 0.020548701, 0.011305047, 0.017939342, 0.023497276, 0.008310808, 0.019491911, 0.0041064788, 0.0071692136, -0.008754399, -0.0028393087, -0.016869506, 0.030946996, 0.036609307, 0.001860799, 0.03655712, -0.022975406, 0.031286214, -0.0074301492, 0.012609727, -0.0022456795, 0.040758185, -0.040340688, -0.0040314593, -0.033765104, -0.0011375174, -0.024306178, -0.0016145408, -0.009687245, -0.036896333, -0.014116632, -0.011735592, 0.0034052134, -0.023145013, -0.016582476, -0.009224083, 0.01664771, 0.003095352, -0.0101504065, 0.0030692583, -0.022231737, 0.004579425, -0.006467948, 0.0019146171, 0.020405186, -0.014181865, -0.005000184, -0.02438446, 0.002067917, -0.011018018, 0.035095878, -0.005929768, -0.042871766, -0.012427072, 0.009922087, -0.011337664, -0.011050635, 0.0012100902, 0.014390614, -0.009517636, 0.007717179, 0.02865076, -0.021305416, -0.025376014, 0.037861798, 0.0066310335, 0.010339584, -0.001678144, 0.009374122, -0.0024935687, 0.021866428, -0.012374884, 0.014338427, -0.02682421, 0.01766536, -0.009054475, -0.0030072862, -0.025858747, -0.012022621, -0.01786106, 0.010209117, 0.0008725044, -0.003366073, -0.01847426, 0.0058319173, 0.006419023, 0.00491538, -0.009895993, -0.029772785, -0.009034906, 0.0011888891, 8.694465e-05, 0.016791224, 0.03321714, -0.03016419, 0.000443591, 0.00885225, -0.021018386, 0.008336902, -0.004403293, 0.025715232, -0.023732118, -0.014260147, -0.009811189, 0.002933898, 0.00917842, -0.010261304, -0.013425152, -0.010059078, 0.0057275426, 0.019217929, -0.014351474, -0.019270115, 0.010078649, 0.01839598, 0.016191073, 0.02039214, 0.006732146, 0.011487703, 0.030007627, -0.020339953, 0.043654576, -0.009269748, 0.010443959, 0.027346082, 0.02291017, -0.0034280452, 0.02718952, 0.026080541, 0.014012258, -0.01219223, 0.0013266959, 0.02531078, -0.002997501, -0.012583633, -0.003914038, 0.020379093, 0.02995544, 0.008734829, -0.015617013, 0.022440486, 0.012524922, 0.024319224, 0.02515422, -0.009700292, 0.056101218, -0.008715259, 0.008800063, -0.0022962359, -0.022205643, -0.017730594, -0.006657127, -0.035226345, 0.025910934, -0.007195307, -0.018839572, -0.021501116, 0.021722913, -0.0145732695, 0.018696057, -0.01941363, 0.014116632, 0.03627009, -0.017913248, -0.015577872, 0.009622011, 0.009211037, -0.002584896, -0.026563274, 0.01705216, 0.018852618, -0.022440486, 0.027815767, 0.025689138, 0.023888681, -0.008767446, -0.0080890125, 0.007762843, 0.016739037, 0.011944341, -0.003074151, 0.0014237314, 0.026589368, -0.01632154, 0.021540258, -0.009948181, -0.004859931, 0.01981808, -0.0034900175, -0.01636068, -0.028989978, 0.019713707, -0.0021037955, 0.005668832, -0.012629297, -0.007482337, 0.0112593835, -0.018200278, 0.010209117, -0.014260147, -0.020992292, 0.010854933, -0.026224056, -0.013933976, -0.013686087, -0.012864139, -0.0074953833, 0.012935896, 0.005887366, -0.03410432, 0.017730594, -0.005173054, 0.0052806903, -0.020444326, 0.015695294, 0.0238104, -0.00012771589, -0.0366354, 0.01058095, 0.02291017, 0.012440119, -0.009230607, -0.00560686, -0.0044978824, 0.0024707366, 0.0023092825, -0.008036826, -0.008558697, -0.007919405, -0.0057829916, 0.03167762, 0.009915564, 0.0012639082, 0.009595918, 0.03780961, 0.013451245, -0.022257831, -0.0041293106, -0.014312333, 0.014755924, 0.00270721, -0.009132756, 0.03687024, 0.01497772, -0.022283925, 0.02014425, -0.004902333, 0.006980035, 0.027241707, 0.0091914665, 0.013973117, 0.03024247, 0.013725228, 0.020600889, -0.005430728, 0.019387536, -0.0075671407, 0.004840361, -0.00016420614, -0.028833415, 0.012081332, 0.031521056, -0.0023940867, -0.0148602985, -0.035069782, -0.027319988, -0.017547939, 0.0119052, -0.00307252, 0.007293158, 0.00082072493, -0.012133519, -0.0018477523, -0.025415156, 0.00021649525, 8.052318e-05, -0.0050817262, -0.015277796, -0.017769733, -0.014351474, 0.018813478, 0.018878711, 0.0061548254, 0.010039508, -0.021475025, -0.005593813, 0.019244023, -0.030346844, -0.01599537, -0.0068560904, -0.022270879, -0.0026338217, 0.001530552, 0.031364493, -0.00051086355, -0.021383695, 0.016191073, 0.017287003, -0.02392782, 0.022127364, 0.011644264, -0.0040966934, 0.015082095, 0.010770129, 0.016869506, -0.0041260486, -0.02690249, 0.023379855, -0.019113554, -0.0022032773, 0.020822683, 0.0023304836, 0.0045761634, 0.0057079727, -0.006526659, -0.00823905, 0.0082129575, 0.002617513, -0.01324902, 0.008663071, -0.028102795, -0.012263987, -0.026263198, 0.009732909, -0.006503827, -0.008271668, -0.03971444, 0.009302365, -0.020313859, 0.02959013, -0.012205277, -0.016269352, 0.0009361075, 0.0011065312, -0.005890628, -0.0014661335, 0.012688007, -0.0006319541, 0.010365678, -0.022414394, -0.014234053, -0.02995544, -0.001687929, 0.017495751, 0.022270879, 0.026315384, -0.0059493384, -0.008995765, -0.012537969, -0.010039508, -0.0011391483, -0.031025277, -0.024358366, -0.01632154, 0.01227051, 0.0036074386, 0.053048268, -0.01324902, 0.008343425, -0.027528737, -0.008023779, -0.023666885, -0.029277006, -0.0037574768, -0.010189546, 0.03452182, 0.042558644, 0.02755483, -0.0027186258, 0.020496514, 0.011455085, 0.015473498, 0.01534303, 0.0039890576, 0.00085619587, -0.02396696, 0.003310624, 0.03903601, 0.013620853, 0.008030302, -0.00985033, -0.026928583, 0.02283189, -0.0018868926, 0.001119578, -0.01396007, -0.018265512, -0.0072018304, -0.010013415, -0.021148853, -0.017795827, -0.030842623, 0.002155983, 0.023458136, 0.01680427, -0.017978482, -0.015069048, 0.019883314, -0.009915564, -0.0025506483, -0.015460451, 0.005130652, 0.002446274, -0.018461214, -0.028181076, -0.029616224, 0.0023011283, -0.0076258513, 0.011794303, 0.009798143, -0.012061762, -0.018369887, 0.027580924, 0.004889286, -0.007306205, -0.023836493, -0.012955467, -0.02718952, -0.032303862, -0.0124988295, -0.031312305, -0.010417866, 0.02047042, 0.0003218889, 0.02519336, -0.01814809, -0.026798116, -0.007404056, 0.010939737, 0.048299234, -0.006901754, 0.027998421, 0.0013992687, -0.003669411, -0.02682421, -0.016569428, 0.0022603571, -0.019217929, 0.018343793, 0.031234026, -0.028337637, -0.027841859, 0.01013736, -0.0049708285, 0.002878449, -0.016295446, 0.01676513, 0.0040966934, 0.013353394, -0.0054274667, -0.001109793, -0.029120445, 0.008147723, 0.018461214, 0.00823905, 0.016634664, -0.009993845, -0.03032075, 0.040471155, -0.035069782, 0.019974642, 0.0030105477, -0.017273955, 0.015082095, 0.012661914, -0.013777415, -0.0048207906, 0.00048273138, 0.021253228, -0.02893779, 0.007260541, 0.023575557, -0.003463924, -0.0008407028, 0.0098699, 0.011337664, 0.030503405, 0.00324539, 0.00491538, -0.0030154404, 0.015734434, 0.021422837, 0.00270721, -0.007828076, -0.013118552, -0.027946234, -0.005130652, 0.003930347, 0.0060015256, -0.0024006101, -0.01985722, -0.015786622, -0.00750843, -0.01288371, -0.018082857, 0.0024935687, -0.018983087, -0.021749007, -0.0031964646, 0.040392876, 0.019478865, 0.009752478, -0.019635426, 0.012811952, 0.013399058, -0.021148853, 0.017808875, -0.0062200595, 0.002739827, -0.034652285, -0.009119709, 0.018865665, -0.014782018, 0.010463529, -0.011944341, -0.032799643, 0.0020255148, 0.0115398895, -0.004501144, -0.012387931, -0.013014178, 0.020744404, -0.011898677, -0.004347844, -0.024619302, -0.025428202, 0.02747655, -0.024280084, -0.013816555, 0.010867979, -0.033425886, 0.0023500537, -0.014586316, -0.004341321, 0.0052937367, -0.0115398895, 0.0077954596, 0.010450482, 0.03728774, 0.018304653, -0.009895993, -0.013209879, -0.035669938, -0.01497772, 0.013933976, -0.022296973, 0.0065527526, 0.02100534, -0.016178025, 0.012975037, 0.024358366, -0.018213324, -0.026772022, -0.011350711, -0.028598573, -0.032590892, -0.005528579, 0.012792382, 0.03139059, -0.012042191, -0.013581713, -0.0028719257, 0.004458742, -0.050360627, -0.017247863, -0.006895231, 0.01493858, 0.019100508, 0.026445853, -0.01396007, -0.00238104, 0.017587079, 0.0069082775, -0.035930872, -0.005130652, -0.0027757054, 0.016178025, 0.019296208, 0.016178025, -0.041619275, -0.016008416, 0.020352999, 0.02104448, 0.01676513, 0.009843807, -0.0066669118, -0.007443196, 0.010763605, -0.0017759949, 0.018187232, -0.02043128, 0.023014545, -0.006079806, -0.015121235, -0.015225609, 0.0102939205, 0.011311571, 0.007377962, 0.010000368, -0.0041521424, 0.0016618355, -0.0003655141, -0.006634295, -0.013986164, -0.02344509, 0.035956964, 0.0038814214, -0.0060015256, 0.046263933, 0.007938975, -0.015121235, 0.013451245, 0.016099744, -0.003266591, -0.01127243, -0.0055644577, -0.011207197, 0.020209484, -0.01726091, 0.019596286, -0.020874871, -0.0076258513, 0.0027496119, -0.014964674, -0.03606134, 0.02559781, -0.012348791, -0.018422075, -0.0231972, -0.00071308884, -0.0024299654, -0.0068887076, -0.00818034, -0.024645396, -0.009980798, -0.026745928, 0.012081332, -0.0020940106, -0.035539467, 0.0104309125, 0.0071561667, 0.0062037506, 0.005734066, 0.17347018, -0.002369624, -0.005098035, 0.02922482, 0.008539127, 0.012016098, 0.01843512, 0.0018347055, -0.0011342557, 0.009967751, 0.015486545, 0.04545503, 0.0038161874, 0.00238104, 0.0147167845, -0.0062298444, -0.052082803, 0.006402714, -0.009622011, 0.00050189387, 0.022270879, -0.01465155, 0.0022244784, -0.025989214, 0.03199074, -0.020170344, -0.002369624, -0.017821921, 0.00065967854, 0.00060993765, 0.0045598545, -0.00915885, -0.013144646, 0.009276271, -0.023888681, -0.011461609, -0.0036204855, 0.012805428, 0.017717548, 0.017078254, -0.009100139, -0.01359476, 0.0148602985, -0.0031915721, -0.002294605, -0.010346108, -0.011833442, -0.010006892, -0.00506868, 0.00083825656, -0.02698077, -0.0018575373, 0.022336112, 0.03963616, -0.0043217507, 0.007554094, 0.013907883, -0.004758818, -0.008323855, 0.024893284, -0.010052555, 0.030477311, 0.0039009915, 0.011683404, 0.0017596864, 0.013986164, -0.028807322, -0.04362848, 0.03548728, 8.61802e-05, 0.019322302, 0.009295841, 0.0070256987, 0.029929347, 0.0027805981, -0.0020760712, -0.00044603727, -0.0010722834, 0.008695688, 0.013790462, -0.0060895914, -0.01994855, 0.005052371, -0.015512639, -0.002500092, -0.025284687, 0.0156692, 0.018709103, 0.007006129, -0.004439172, 0.016739037, 0.015643107, 0.0015876318, 0.022584, 0.0010037877, 0.009511113, -0.020966198, 0.003408475, -0.023823448, 0.010019938, -0.048690636, 0.030059814, -0.0140253045, 0.0033791198, -0.030529499, -0.0056329537, 0.0064646867, 0.017143488, -0.008845727, -0.0014245468, 0.0009393692, -0.02974669, 0.0021201042, 0.0028980193, 0.0025897888, 0.0032323434, -0.0054176813, -0.029929347, -0.010333061, -0.0154082645, -0.0024267037, -0.012120472, 0.0016642817, 0.013386011, -0.023223294, 0.0037281215, -0.01574748, 0.0048827627, 0.02409743, -0.046811897, 0.0051795775, 0.016739037, -0.013007654, 0.008995765, -0.010176499, -0.019713707, 0.007534524, -0.0027871216, -0.0013699135, 0.016347634, 0.002694163, -0.0060863295, 0.017848015, -0.004413078, -0.0019309255, -0.02392782, -0.021696819, 0.004879501, -0.017352236, -0.034600098, -0.0021054265, -0.014912486, -0.00299587, -0.029616224, 0.00988947, 0.004465265, -1.7901119e-05, -0.04929079, -0.0053589707, -0.0072018304, -0.037548676, -0.013673041, 0.014051397, 0.018526448, -0.023053685, -0.021879474, -0.16512023, 0.015186469, 0.03178199, -0.016791224, -0.008937054, 0.02885951, 0.030529499, -0.004504406, 0.005919983, -0.0030643658, 0.02865076, -0.013738275, -0.038148828, -0.03321714, -0.006363574, 0.011370282, -0.012237893, 0.00950459, 0.017508797, 0.021018386, 0.017808875, -0.01795239, 0.020379093, 0.00012017321, -0.00785417, 0.0183177, 0.0075475704, 0.028102795, -0.0074105794, 0.009276271, 0.0012321067, -0.002250572, 0.01880043, -0.0070517925, -0.0017042375, -0.0048175287, -0.018369887, 0.0017792566, -0.010646184, 0.04203677, -0.009250177, -0.013438199, 0.007801983, 0.026041402, 0.0050882497, 0.039192572, 0.007175737, -0.0030464265, -0.0058319173, -0.030190282, 0.023458136, -0.0293031, -0.00020161374, 0.012811952, 0.009511113, 0.018174184, 0.003343241, -0.011011494, 0.009087092, -0.017469658, -0.041984584, -0.006621248, -0.0001702199, -0.019022226, -0.0036596258, -0.031364493, -0.016673803, -0.003118184, -0.029120445, 0.00089289, -0.02287103, -0.001797196, 0.012342268, 0.01810895, 0.005616645, 0.015551779, -0.008689165, 0.007521477, 0.011507273, -0.0076780384, -0.016908646, 0.047594707, -0.023706026, 0.026628507, -0.0012475997, -0.015356077, -0.0010372201, -0.01680427, -0.004670752, -0.0162824, 0.021644631, -0.0386707, -0.0012492306, -0.0039433935, 0.019387536, 0.019805035, 0.0011619801, 0.023353763, 0.014560223, 0.0027528736, 0.0026321907, -0.019596286, -0.033425886, 0.015799668, 0.036139622, 0.007599758, -0.0091914665, 0.021709867, 0.041097403, 0.005368756, -0.0063929292, 0.014586316, 0.018187232, 0.020405186, 0.018422075, 0.02690249, -0.027998421, -0.02315806, 0.0063896677, -0.0022962359, 0.030529499, -0.008323855, -0.020600889, 0.029694505, -0.013235973, -0.012453165, -0.07828077, -0.030007627, 0.017156534, 0.006927848, -0.024045242, 0.020418234, 0.013255543, 0.0031230764, -0.011944341, 0.017652312, -0.034652285, -0.010111266, -0.014181865, 0.017600127, 0.032147303, 0.023027591, -0.0035519898, 0.011031065, -0.04159318, 0.019100508, -0.017443564, -0.03454791, -0.0073975325, 0.0028213693, -0.0014596102, -0.0017662098, -0.035748217, 0.028520294, 0.020861825, 0.013777415, -0.0022424178, -0.024319224, 0.032904014, -0.01795239, -0.016438961, -0.01795239, -0.0149907665, 0.008030302, 0.026145777, -0.018696057, -0.010046031, 0.0041064788, 0.018121997, -0.032016832, 0.024932424, -0.015656153, -0.028050609, 0.033060577, -0.0043315357, -0.026876397, -0.0007314359, -0.000209768, -0.009954704, -0.026772022, 0.018174184, 0.013079411, 0.015512639, 0.0073714387, -0.0025897888, -0.0082194805, -0.008878344, 0.021461977, 0.012524922, 0.009582871, 0.01570834, 0.00067313306, -0.0078085065, -0.012518399, 0.011044111, -0.027319988, 0.010763605, 0.019465817, -0.024880238, -0.0032519135, -0.009041429, 0.019504957, -0.019400584, -0.0042891335, 0.023862587, -0.01636068, -0.0078085065, 0.0043217507, -0.019504957, -0.016217165, 0.022766657, 0.021644631, 0.021383695, 0.011357235, -0.008982718, -0.04785564, 0.023940869, 0.023536418, 0.025610857, -0.01697388, -0.008793539, 0.022205643, 0.0068104267, 0.012387931, -0.0023908252, 0.00750843, -0.052735142, -0.0087804925, -0.06799989, 0.029094351, 0.00050189387, 0.008017255, 0.013503432, -0.0045598545, 0.003548728, -0.018200278, 0.020300813, 0.022088222, 0.005130652, 0.02901607, -0.0039107767, -0.010183023, 0.012524922, 0.0007375516, 0.023706026, -0.0036204855, 0.021592446, 0.0046674907, 0.017430518, -0.015238656, 0.004925165, -0.0013584974, -0.019309256, 0.021018386, -0.0063244337, 0.022453533, -0.0003129192, -0.009993845, 0.052317645, -0.019478865, 6.064721e-05, 0.025976168, 0.0037705237, -0.035539467, -0.0011130547, 0.009354551, 0.020379093, -0.033060577, -0.04488097, -0.01676513, 0.005117605, -0.027241707, -0.020013783, 0.0013992687, -0.0015892626, 0.01497772, 0.023745166, 0.014925533, 0.0068756607, 0.018200278, -0.008036826, -0.029694505, -0.0115398895, -0.024775863, 0.012355315, 0.008976195, 0.015630059, 0.0050132307, 0.03389557, 0.0017156535, 0.022296973, -0.009145803, 0.001466949, -0.010724465, 0.012524922, -0.0002474814, 0.028259357, -0.008356472, -0.012975037, -0.004142357, 0.008734829, 0.009902517, 0.0051893624, 0.004749033, -0.019674566, -0.014142726, -0.029198727, 0.003767262, 0.013242496, 0.008839203, 0.0024479048, -0.0028197384, 0.020822683, 0.023379855, -0.012316174, 0.021135807, 0.015982322, 0.025049845, -0.032408237, 0.0026452376, -0.01501686, 0.028624667, 0.02698077, -0.0029045427, -0.015590919, -0.0013584974, 0.024240945, 0.012133519, -0.0077041322, -0.009054475, 0.0023206985, 0.0012948944, -0.020705262, -0.006764763, -0.03272136, -0.017547939, 0.0032421285, 0.00322582, -0.008010732, -0.01092669, -0.0075606173, 0.0069213244, -0.02421485, -0.013183786, -0.007456243, 0.009752478, -0.020405186, 0.027867952, 0.0038912063, 0.009700292, 0.018709103, -0.008297761, 0.04201068, 0.013464292, 0.0065201353, 0.0010510824, 0.004837099, -0.011455085, 0.0038357575, -0.019309256, -0.020287765, -0.0015093511, -0.020900965, -0.026067495, -0.0005940369, 0.013301207, 0.009648104, 0.0667474, -0.0041717123, -0.0045109293, 0.003656364, -0.012590157, 0.00307252, 0.0010478207, -0.0041945446, -0.01726091, -0.022244785, 0.025010705, -0.027398268, -0.019439723, -0.016582476, -0.03235605, 0.012296604, 0.0059982636, 0.006030881, -0.012427072, -0.01501686, 0.011846489, -0.0008044164, 0.0012908173, -0.017587079, -0.0034574005, 0.01326859, 0.017547939, -0.0015786621, -0.002001052, -0.051065154, 0.011200673, 0.0104309125, -0.021788146, -0.0056427387, 0.0061776573, -0.010470052, -0.031260118, -0.0072474945, -0.004892548, -0.0023418996, 0.013568666, 0.02392782, -0.013999211, -0.019583238, -0.021592446, 0.004080385, 0.011866059, -0.0183177, -0.046994552]}, page_content='E2CCAF6F-7AB5-4086-86A3-A50B3E6EF101')]"
      ]
     },
     "execution_count": 10,
     "metadata": {},
     "output_type": "execute_result"
    }
   ],
   "source": [
    "query = \"What yellow products are there?\"\n",
    "vector_store.similarity_search(query, k=3)"
   ]
  },
  {
   "cell_type": "markdown",
   "metadata": {},
   "source": [
    "RAG with LangChain\n",
    "\n",
    "In this section, we'll implement the RAG pattern using LangChain. In LangChain, a retriever is used to augment the prompt with contextual data. In this case, the already established vector store will be used as the retriever. By default, the prompt is augmented with the page_content field of the retrieved document that customarily contains the text content of the embedded vector. In our case, the document itself serves as the textual content, so we'll have to do some pre-processing to format the text of the product list that is expected in our system prompt (JSON string) - see the format_documents function below for this implementation.\n",
    "\n",
    "We'll also define a reusable RAG chain to control the flow and behavior of the call into the LLM. This chain is defined using the LCEL syntax (LangChain Expression Language)."
   ]
  },
  {
   "cell_type": "code",
   "execution_count": 11,
   "metadata": {},
   "outputs": [],
   "source": [
    "# A system prompt describes the responsibilities, instructions, and persona of the AI.\n",
    "# Note the addition of the templated variable/placeholder for the list of products and the incoming question.\n",
    "system_prompt = \"\"\"\n",
    "You are a helpful, fun and friendly sales assistant for Cosmic Works, a bicycle and bicycle accessories store. \n",
    "Your name is Cosmo.\n",
    "You are designed to answer questions about the products that Cosmic Works sells.\n",
    "\n",
    "Only answer questions related to the information provided in the list of products below that are represented\n",
    "in JSON format.\n",
    "\n",
    "If you are asked a question that is not in the list, respond with \"I don't know.\"\n",
    "\n",
    "Only answer questions related to Cosmic Works products, customers, and sales orders.\n",
    "\n",
    "If a question is not related to Cosmic Works products, customers, or sales orders,\n",
    "respond with \"I only answer questions about Cosmic Works\"\n",
    "\n",
    "List of products:\n",
    "{products}\n",
    "\n",
    "Question:\n",
    "{question}\n",
    "\"\"\""
   ]
  },
  {
   "cell_type": "code",
   "execution_count": 12,
   "metadata": {},
   "outputs": [],
   "source": [
    "# remember that each Document contains a page_content property\n",
    "# that is populated with the _id field of the document\n",
    "# all other document fields are located in the metadata property\n",
    "def format_docs(docs:List[Document]) -> str:\n",
    "        \"\"\"\n",
    "        Prepares the product list for the system prompt.\n",
    "        \"\"\"\n",
    "        str_docs = []\n",
    "        for doc in docs:\n",
    "                # Build the product document without the contentVector\n",
    "                doc_dict = {\"_id\": doc.page_content}\n",
    "                doc_dict.update(doc.metadata)\n",
    "                if \"contentVector\" in doc_dict:  \n",
    "                        del doc_dict[\"contentVector\"]\n",
    "                str_docs.append(json.dumps(doc_dict, default=str))                  \n",
    "        # Return a single string containing each product JSON representation\n",
    "        # separated by two newlines\n",
    "        return \"\\n\\n\".join(str_docs)"
   ]
  },
  {
   "cell_type": "code",
   "execution_count": 13,
   "metadata": {},
   "outputs": [],
   "source": [
    "# Create a retriever from the vector store\n",
    "retriever = vector_store.as_retriever()\n",
    "\n",
    "# Create the prompt template from the system_prompt text\n",
    "llm_prompt = PromptTemplate.from_template(system_prompt)\n",
    "\n",
    "rag_chain = (\n",
    "    # populate the tokens/placeholders in the llm_prompt \n",
    "    # products takes the results of the vector store and formats the documents\n",
    "    # question is a passthrough that takes the incoming question\n",
    "    { \"products\": retriever | format_docs, \"question\": RunnablePassthrough()}\n",
    "    | llm_prompt\n",
    "    # pass the populated prompt to the language model\n",
    "    | llm\n",
    "    # return the string ouptut from the language model\n",
    "    | StrOutputParser()\n",
    ")"
   ]
  },
  {
   "cell_type": "code",
   "execution_count": 14,
   "metadata": {},
   "outputs": [
    {
     "name": "stdout",
     "output_type": "stream",
     "text": [
      "- Road-550-W Yellow, 40 (SKU: BK-R64Y-40)\n",
      "- Road-550-W Yellow, 48 (SKU: BK-R64Y-48)\n",
      "- Touring-1000 Yellow, 60 (SKU: BK-T79Y-60)\n",
      "- Road-350-W Yellow, 40 (SKU: BK-R79Y-40)\n"
     ]
    }
   ],
   "source": [
    "question = \"What are the names and skus of yellow products? Output the answer as a bulleted list.\"\n",
    "response = rag_chain.invoke(question)\n",
    "print(response)"
   ]
  },
  {
   "cell_type": "markdown",
   "metadata": {},
   "source": [
    "LangChain Agent\n",
    "\n",
    "Create retrievers\n",
    "\n",
    "A separate retriever is required for each vector index. The following cell creates a VectorStoreRetriever for the products, customers, and sales collections and associated vector index."
   ]
  },
  {
   "cell_type": "code",
   "execution_count": 15,
   "metadata": {},
   "outputs": [
    {
     "name": "stderr",
     "output_type": "stream",
     "text": [
      "c:\\Users\\amanb\\AppData\\Local\\Programs\\Python\\Python312\\Lib\\site-packages\\langchain_community\\vectorstores\\azure_cosmos_db.py:146: UserWarning: You appear to be connected to a CosmosDB cluster. For more information regarding feature compatibility and support please visit https://www.mongodb.com/supportability/cosmosdb\n",
      "  client: MongoClient = MongoClient(connection_string, appname=appname)\n"
     ]
    }
   ],
   "source": [
    "def create_cosmic_works_vector_store_retriever(collection_name: str, top_k: int = 3):\n",
    "    vector_store =  AzureCosmosDBVectorSearch.from_connection_string(\n",
    "        connection_string = CONNECTION_STRING,\n",
    "        namespace = f\"cosmic_works.{collection_name}\",\n",
    "        embedding = embedding_model,\n",
    "        index_name = \"VectorSearchIndex\",    \n",
    "        embedding_key = \"contentVector\",\n",
    "        text_key = \"_id\"\n",
    "    )\n",
    "    return vector_store.as_retriever(search_kwargs={\"k\": top_k})\n",
    "\n",
    "\n",
    "products_retriever = create_cosmic_works_vector_store_retriever(\"products\")\n",
    "customers_retriever = create_cosmic_works_vector_store_retriever(\"customers\")\n",
    "sales_retriever = create_cosmic_works_vector_store_retriever(\"sales\")"
   ]
  },
  {
   "cell_type": "markdown",
   "metadata": {},
   "source": [
    "Create Agent Tools\n",
    "\n",
    "LangChain does have a built-in create_retriever_tool that wraps a vector store retriever, however, because we are storing the embeddings in the contentVector field of the document, we must do some pre-processing of the retrieved documents to remove this field so that we don't needlessly expend the model's token quota.\n",
    "\n",
    "Instead, we'll create a RAG chain as our tool implementation that does the pre-processing through the format_docs function we defined above to return each document in its JSON representation."
   ]
  },
  {
   "cell_type": "code",
   "execution_count": 16,
   "metadata": {},
   "outputs": [],
   "source": [
    "# Create tools that will use vector search in vCore-based Azure Cosmos DB for MongoDB collections\n",
    "\n",
    "# create a chain on the retriever to format the documents as JSON\n",
    "products_retriever_chain = products_retriever | format_docs\n",
    "customers_retriever_chain = customers_retriever | format_docs\n",
    "sales_retriever_chain = sales_retriever | format_docs\n",
    "\n",
    "tools = [\n",
    "    Tool(\n",
    "        name = \"vector_search_products\", \n",
    "        func = products_retriever_chain.invoke,\n",
    "        description = \"Searches Cosmic Works product information for similar products based on the question. Returns the product information in JSON format.\"\n",
    "    ),\n",
    "    Tool(\n",
    "        name = \"vector_search_customers\", \n",
    "        func = customers_retriever_chain.invoke,\n",
    "        description = \"Searches Cosmic Works customer information and retrieves similar customers based on the question. Returns the customer information in JSON format.\"\n",
    "    ),\n",
    "    Tool(\n",
    "        name = \"vector_search_sales\", \n",
    "        func = sales_retriever_chain.invoke,\n",
    "        description = \"Searches Cosmic Works customer sales information and retrieves sales order details based on the question. Returns the sales order information in JSON format.\"\n",
    "    )\n",
    "]"
   ]
  },
  {
   "cell_type": "markdown",
   "metadata": {},
   "source": [
    "Tools part 2\n",
    "\n",
    "Certain properties do not have semantic meaning (such as the GUID _id fields) and attempting to use vector search on these fields will not yield meaningful results. We need a tool to retrieve specific documents based on popular searches criteria.\n",
    "\n",
    "The following tool definitions is not an exhaustive list of what may be needed but serves as an example to provide concrete lookups of a document in the Cosmic Works database."
   ]
  },
  {
   "cell_type": "code",
   "execution_count": 17,
   "metadata": {},
   "outputs": [
    {
     "name": "stderr",
     "output_type": "stream",
     "text": [
      "C:\\Users\\amanb\\AppData\\Local\\Temp\\ipykernel_7652\\47035323.py:1: UserWarning: You appear to be connected to a CosmosDB cluster. For more information regarding feature compatibility and support please visit https://www.mongodb.com/supportability/cosmosdb\n",
      "  db = pymongo.MongoClient(CONNECTION_STRING).cosmic_works\n"
     ]
    }
   ],
   "source": [
    "db = pymongo.MongoClient(CONNECTION_STRING).cosmic_works\n",
    "\n",
    "def get_product_by_id(product_id: str) -> str:\n",
    "    \"\"\"\n",
    "    Retrieves a product by its ID.    \n",
    "    \"\"\"\n",
    "    doc = db.products.find_one({\"_id\": product_id})    \n",
    "    if \"contentVector\" in doc:\n",
    "        del doc[\"contentVector\"]\n",
    "    return json.dumps(doc)\n",
    "\n",
    "def get_product_by_sku(sku: str) -> str:\n",
    "    \"\"\"\n",
    "    Retrieves a product by its sku.\n",
    "    \"\"\"\n",
    "    doc = db.products.find_one({\"sku\": sku})\n",
    "    if \"contentVector\" in doc:\n",
    "        del doc[\"contentVector\"]\n",
    "    return json.dumps(doc, default=str)\n",
    "\n",
    "def get_sales_by_id(sales_id: str) -> str:\n",
    "    \"\"\"\n",
    "    Retrieves a sales order by its ID.\n",
    "    \"\"\"\n",
    "    doc = db.sales.find_one({\"_id\": sales_id})\n",
    "    if \"contentVector\" in doc:\n",
    "        del doc[\"contentVector\"]\n",
    "    return json.dumps(doc, default=str)    \n",
    "\n",
    "from langchain.tools import StructuredTool\n",
    "\n",
    "tools.extend([\n",
    "    StructuredTool.from_function(get_product_by_id),\n",
    "    StructuredTool.from_function(get_product_by_sku),\n",
    "    StructuredTool.from_function(get_sales_by_id)\n",
    "])"
   ]
  },
  {
   "cell_type": "markdown",
   "metadata": {},
   "source": [
    "Create the agent\n",
    "\n",
    "The create_conversational_retrieval_agent is a built-in agent that includes conversational history as well uses the OpenAIFunctionsAgent as its underlying implementation.\n",
    "\n",
    "Remember that an agent leverages the LLM to assess the incoming request with the current context to decide what steps or actions need to be executed and in what order. LangChain agents can leverage tools. A tool can be an integration into an external system, custom code, or even another chain."
   ]
  },
  {
   "cell_type": "code",
   "execution_count": 18,
   "metadata": {},
   "outputs": [],
   "source": [
    "system_message = SystemMessage(\n",
    "    content = \"\"\"\n",
    "        You are a helpful, fun and friendly sales assistant for Cosmic Works, a bicycle and bicycle accessories store.\n",
    "\n",
    "        Your name is Cosmo.\n",
    "\n",
    "        You are designed to answer questions about the products that Cosmic Works sells, the customers that buy them, and the sales orders that are placed by customers.\n",
    "\n",
    "        If you don't know the answer to a question, respond with \"I don't know.\"\n",
    "        \n",
    "        Only answer questions related to Cosmic Works products, customers, and sales orders.\n",
    "        \n",
    "        If a question is not related to Cosmic Works products, customers, or sales orders,\n",
    "        respond with \"I only answer questions about Cosmic Works\"\n",
    "    \"\"\"    \n",
    ")\n",
    "agent_executor = create_conversational_retrieval_agent(llm, tools, system_message = system_message, verbose=True)"
   ]
  },
  {
   "cell_type": "code",
   "execution_count": 19,
   "metadata": {},
   "outputs": [
    {
     "name": "stderr",
     "output_type": "stream",
     "text": [
      "c:\\Users\\amanb\\AppData\\Local\\Programs\\Python\\Python312\\Lib\\site-packages\\langchain_core\\_api\\deprecation.py:139: LangChainDeprecationWarning: The method `Chain.__call__` was deprecated in langchain 0.1.0 and will be removed in 0.3.0. Use invoke instead.\n",
      "  warn_deprecated(\n"
     ]
    },
    {
     "name": "stdout",
     "output_type": "stream",
     "text": [
      "\n",
      "\n",
      "\u001b[1m> Entering new AgentExecutor chain...\u001b[0m\n",
      "\u001b[32;1m\u001b[1;3m\n",
      "Invoking: `vector_search_products` with `yellow`\n",
      "\n",
      "\n",
      "\u001b[0m\u001b[36;1m\u001b[1;3m{\"_id\": \"26E8185C-782A-4B48-87FA-1E715E3825FB\", \"categoryId\": \"AE48F0AA-4F65-4734-A4CF-D48B8F82267F\", \"categoryName\": \"Bikes, Road Bikes\", \"sku\": \"BK-R64Y-48\", \"name\": \"Road-550-W Yellow, 48\", \"description\": \"The product called \\\"Road-550-W Yellow, 48\\\"\", \"price\": 1120.49, \"tags\": [{\"_id\": \"46AC3482-E9A6-474D-A435-D3399F21991F\", \"name\": \"Tag-90\"}, {\"_id\": \"9C89E562-1247-435D-B786-4E54024E681C\", \"name\": \"Tag-128\"}]}\n",
      "\n",
      "{\"_id\": \"9E5C74FD-F685-45AE-A799-D67EFB5C28A1\", \"categoryId\": \"AE48F0AA-4F65-4734-A4CF-D48B8F82267F\", \"categoryName\": \"Bikes, Road Bikes\", \"sku\": \"BK-R79Y-40\", \"name\": \"Road-350-W Yellow, 40\", \"description\": \"The product called \\\"Road-350-W Yellow, 40\\\"\", \"price\": 1700.99, \"tags\": [{\"_id\": \"069169DD-F4B3-4769-8841-13B5FF745932\", \"name\": \"Tag-157\"}]}\n",
      "\n",
      "{\"_id\": \"3A70EDD4-6C8C-44AA-A13D-49D0F6058699\", \"categoryId\": \"AE48F0AA-4F65-4734-A4CF-D48B8F82267F\", \"categoryName\": \"Bikes, Road Bikes\", \"sku\": \"BK-R64Y-40\", \"name\": \"Road-550-W Yellow, 40\", \"description\": \"The product called \\\"Road-550-W Yellow, 40\\\"\", \"price\": 1120.49, \"tags\": [{\"_id\": \"2CE9DADE-DCAC-436C-9D69-B7C886A01B77\", \"name\": \"Tag-101\"}, {\"_id\": \"CA7D17BB-45A6-47E6-A3E3-E70AF34C2072\", \"name\": \"Tag-158\"}]}\u001b[0m\u001b[32;1m\u001b[1;3mWe have the following yellow products:\n",
      "\n",
      "1. Road-550-W Yellow, 48 - SKU: BK-R64Y-48\n",
      "   Description: The product called \"Road-550-W Yellow, 48\"\n",
      "   Price: $1120.49\n",
      "   Tags: Tag-90, Tag-128\n",
      "\n",
      "2. Road-350-W Yellow, 40 - SKU: BK-R79Y-40\n",
      "   Description: The product called \"Road-350-W Yellow, 40\"\n",
      "   Price: $1700.99\n",
      "   Tags: Tag-157\n",
      "\n",
      "3. Road-550-W Yellow, 40 - SKU: BK-R64Y-40\n",
      "   Description: The product called \"Road-550-W Yellow, 40\"\n",
      "   Price: $1120.49\n",
      "   Tags: Tag-101, Tag-158\n",
      "\n",
      "Let me know if you need more information about any of these products.\u001b[0m\n",
      "\n",
      "\u001b[1m> Finished chain.\u001b[0m\n",
      "***********************************************************\n",
      "We have the following yellow products:\n",
      "\n",
      "1. Road-550-W Yellow, 48 - SKU: BK-R64Y-48\n",
      "   Description: The product called \"Road-550-W Yellow, 48\"\n",
      "   Price: $1120.49\n",
      "   Tags: Tag-90, Tag-128\n",
      "\n",
      "2. Road-350-W Yellow, 40 - SKU: BK-R79Y-40\n",
      "   Description: The product called \"Road-350-W Yellow, 40\"\n",
      "   Price: $1700.99\n",
      "   Tags: Tag-157\n",
      "\n",
      "3. Road-550-W Yellow, 40 - SKU: BK-R64Y-40\n",
      "   Description: The product called \"Road-550-W Yellow, 40\"\n",
      "   Price: $1120.49\n",
      "   Tags: Tag-101, Tag-158\n",
      "\n",
      "Let me know if you need more information about any of these products.\n"
     ]
    }
   ],
   "source": [
    "result = agent_executor({\"input\": \"What products do you have that are yellow?\"})\n",
    "print(\"***********************************************************\")\n",
    "print(result['output'])"
   ]
  },
  {
   "cell_type": "code",
   "execution_count": 20,
   "metadata": {},
   "outputs": [
    {
     "name": "stdout",
     "output_type": "stream",
     "text": [
      "\n",
      "\n",
      "\u001b[1m> Entering new AgentExecutor chain...\u001b[0m\n",
      "\u001b[32;1m\u001b[1;3m\n",
      "Invoking: `get_sales_by_id` with `{'sales_id': '06FE91D2-B350-471A-AD29-906BF4EB97C4'}`\n",
      "\n",
      "\n",
      "\u001b[0m\u001b[38;5;200m\u001b[1;3m{\"_id\": \"06FE91D2-B350-471A-AD29-906BF4EB97C4\", \"customerId\": \"D133397E-83ED-4FF3-BD44-62D7481237B2\", \"orderDate\": \"2011-07-01 00:00:00\", \"shipDate\": \"2011-07-08 00:00:00\", \"details\": [{\"sku\": \"LJ-0192-L\", \"name\": \"Long-Sleeve Logo Jersey, L\", \"price\": 28.8404, \"quantity\": 1}, {\"sku\": \"BK-R68R-52\", \"name\": \"Road-450 Red, 52\", \"price\": 874.794, \"quantity\": 1}, {\"sku\": \"CA-1098\", \"name\": \"AWC Logo Cap\", \"price\": 5.1865, \"quantity\": 1}]}\u001b[0m\u001b[32;1m\u001b[1;3m\n",
      "Invoking: `get_product_by_sku` with `{'sku': 'LJ-0192-L'}`\n",
      "\n",
      "\n",
      "\u001b[0m\u001b[33;1m\u001b[1;3m{\"_id\": \"6401B68F-924A-4B2E-AC9E-5660AEA0E848\", \"categoryId\": \"C3C57C35-1D80-4EC5-AB12-46C57A017AFB\", \"categoryName\": \"Clothing, Jerseys\", \"sku\": \"LJ-0192-L\", \"name\": \"Long-Sleeve Logo Jersey, L\", \"description\": \"The product called \\\"Long-Sleeve Logo Jersey, L\\\"\", \"price\": 49.99, \"tags\": [{\"_id\": \"B48D6572-67EB-4630-A1DB-AFD4AD7041C9\", \"name\": \"Tag-100\"}, {\"_id\": \"E1A62ABF-BBC3-48A2-BAC6-E3350D023C83\", \"name\": \"Tag-194\"}]}\u001b[0m\u001b[32;1m\u001b[1;3m\n",
      "Invoking: `get_product_by_sku` with `{'sku': 'BK-R68R-52'}`\n",
      "\n",
      "\n",
      "\u001b[0m\u001b[33;1m\u001b[1;3m{\"_id\": \"0D7CB85D-4518-4E02-8E46-9683947BBBC4\", \"categoryId\": \"AE48F0AA-4F65-4734-A4CF-D48B8F82267F\", \"categoryName\": \"Bikes, Road Bikes\", \"sku\": \"BK-R68R-52\", \"name\": \"Road-450 Red, 52\", \"description\": \"The product called \\\"Road-450 Red, 52\\\"\", \"price\": 1457.99, \"tags\": [{\"_id\": \"461ADE06-0903-4BAF-97AB-CC713E5B1DD4\", \"name\": \"Tag-174\"}, {\"_id\": \"8CA1BBD8-D00B-4654-AABA-5C8724C6F4BD\", \"name\": \"Tag-81\"}]}\u001b[0m\u001b[32;1m\u001b[1;3m\n",
      "Invoking: `get_product_by_sku` with `{'sku': 'CA-1098'}`\n",
      "\n",
      "\n",
      "\u001b[0m\u001b[33;1m\u001b[1;3m{\"_id\": \"8DB727BC-BE6B-4472-93F9-977B927D0C36\", \"categoryId\": \"ACCC1FC1-7601-4F7A-AFA7-29C892F0FBE3\", \"categoryName\": \"Clothing, Caps\", \"sku\": \"CA-1098\", \"name\": \"AWC Logo Cap\", \"description\": \"The product called \\\"AWC Logo Cap\\\"\", \"price\": 8.99, \"tags\": [{\"_id\": \"511652EB-9EC2-4235-BA77-0C6E4E316679\", \"name\": \"Tag-199\"}, {\"_id\": \"BA4D7ABD-2E82-4DC2-ACF2-5D3B0DEAE1C1\", \"name\": \"Tag-59\"}]}\u001b[0m\u001b[32;1m\u001b[1;3mThe following products were purchased for sales order '06FE91D2-B350-471A-AD29-906BF4EB97C4':\n",
      "\n",
      "1. Long-Sleeve Logo Jersey, L - SKU: LJ-0192-L\n",
      "   Description: The product called \"Long-Sleeve Logo Jersey, L\"\n",
      "   Price: $49.99\n",
      "   Quantity: 1\n",
      "\n",
      "2. Road-450 Red, 52 - SKU: BK-R68R-52\n",
      "   Description: The product called \"Road-450 Red, 52\"\n",
      "   Price: $1457.99\n",
      "   Quantity: 1\n",
      "\n",
      "3. AWC Logo Cap - SKU: CA-1098\n",
      "   Description: The product called \"AWC Logo Cap\"\n",
      "   Price: $8.99\n",
      "   Quantity: 1\n",
      "\n",
      "Let me know if you need more information about any of these products.\u001b[0m\n",
      "\n",
      "\u001b[1m> Finished chain.\u001b[0m\n",
      "***********************************************************\n",
      "The following products were purchased for sales order '06FE91D2-B350-471A-AD29-906BF4EB97C4':\n",
      "\n",
      "1. Long-Sleeve Logo Jersey, L - SKU: LJ-0192-L\n",
      "   Description: The product called \"Long-Sleeve Logo Jersey, L\"\n",
      "   Price: $49.99\n",
      "   Quantity: 1\n",
      "\n",
      "2. Road-450 Red, 52 - SKU: BK-R68R-52\n",
      "   Description: The product called \"Road-450 Red, 52\"\n",
      "   Price: $1457.99\n",
      "   Quantity: 1\n",
      "\n",
      "3. AWC Logo Cap - SKU: CA-1098\n",
      "   Description: The product called \"AWC Logo Cap\"\n",
      "   Price: $8.99\n",
      "   Quantity: 1\n",
      "\n",
      "Let me know if you need more information about any of these products.\n"
     ]
    }
   ],
   "source": [
    "result = agent_executor({\"input\": \"What products were purchased for sales order '06FE91D2-B350-471A-AD29-906BF4EB97C4' ?\"})\n",
    "print(\"***********************************************************\")\n",
    "print(result['output'])"
   ]
  },
  {
   "cell_type": "code",
   "execution_count": 21,
   "metadata": {},
   "outputs": [
    {
     "name": "stdout",
     "output_type": "stream",
     "text": [
      "\n",
      "\n",
      "\u001b[1m> Entering new AgentExecutor chain...\u001b[0m\n",
      "\u001b[32;1m\u001b[1;3m\n",
      "Invoking: `get_sales_by_id` with `{'sales_id': '93436616-4C8A-407D-9FDA-908707EFA2C5'}`\n",
      "\n",
      "\n",
      "\u001b[0m\u001b[38;5;200m\u001b[1;3m{\"_id\": \"93436616-4C8A-407D-9FDA-908707EFA2C5\", \"customerId\": \"6DF10977-EA10-4607-AF0F-74EDABA54943\", \"orderDate\": \"2013-09-30 00:00:00\", \"shipDate\": \"2013-10-07 00:00:00\", \"details\": [{\"sku\": \"BK-R89B-52\", \"name\": \"Road-250 Black, 52\", \"price\": 1466.01, \"quantity\": 1}, {\"sku\": \"HB-R956\", \"name\": \"HL Road Handlebars\", \"price\": 72.162, \"quantity\": 1}, {\"sku\": \"FR-R92B-44\", \"name\": \"HL Road Frame - Black, 44\", \"price\": 858.9, \"quantity\": 3}, {\"sku\": \"FR-R92R-44\", \"name\": \"HL Road Frame - Red, 44\", \"price\": 858.9, \"quantity\": 1}]}\u001b[0m\u001b[32;1m\u001b[1;3mThe sales order total for sales order '93436616-4C8A-407D-9FDA-908707EFA2C5' is $4,114.92.\n",
      "\n",
      "Let me know if there's anything else I can help with!\u001b[0m\n",
      "\n",
      "\u001b[1m> Finished chain.\u001b[0m\n",
      "***********************************************************\n",
      "The sales order total for sales order '93436616-4C8A-407D-9FDA-908707EFA2C5' is $4,114.92.\n",
      "\n",
      "Let me know if there's anything else I can help with!\n"
     ]
    }
   ],
   "source": [
    "result = agent_executor({\"input\": \"What was the sales order total for sales order '93436616-4C8A-407D-9FDA-908707EFA2C5' ?\"})\n",
    "print(\"***********************************************************\")\n",
    "print(result['output'])"
   ]
  },
  {
   "cell_type": "code",
   "execution_count": 22,
   "metadata": {},
   "outputs": [
    {
     "name": "stdout",
     "output_type": "stream",
     "text": [
      "\n",
      "\n",
      "\u001b[1m> Entering new AgentExecutor chain...\u001b[0m\n",
      "\u001b[32;1m\u001b[1;3m\n",
      "Invoking: `get_product_by_sku` with `{'sku': 'FR-R92B-58'}`\n",
      "\n",
      "\n",
      "\u001b[0m\u001b[33;1m\u001b[1;3m{\"_id\": \"2CE4EFA7-5DC6-4D3E-ACB2-B7DDE4518408\", \"categoryId\": \"3E4CEACD-D007-46EB-82D7-31F6141752B2\", \"categoryName\": \"Components, Road Frames\", \"sku\": \"FR-R92B-58\", \"name\": \"HL Road Frame - Black, 58\", \"description\": \"The product called \\\"HL Road Frame - Black, 58\\\"\", \"price\": 1431.5, \"tags\": [{\"_id\": \"2CE9DADE-DCAC-436C-9D69-B7C886A01B77\", \"name\": \"Tag-101\"}, {\"_id\": \"AEFA79EF-CBF1-4824-AAF7-1D20EA85119B\", \"name\": \"Tag-17\"}, {\"_id\": \"D197C394-FB88-4EFF-B0FB-8BED1A86F294\", \"name\": \"Tag-182\"}, {\"_id\": \"ECBBCC15-3016-4075-B084-4B49DA754814\", \"name\": \"Tag-138\"}]}\u001b[0m\u001b[32;1m\u001b[1;3mThe price of the product with SKU 'FR-R92B-58' is $1431.50.\n",
      "\n",
      "Let me know if there's anything else I can assist you with!\u001b[0m\n",
      "\n",
      "\u001b[1m> Finished chain.\u001b[0m\n",
      "***********************************************************\n",
      "The price of the product with SKU 'FR-R92B-58' is $1431.50.\n",
      "\n",
      "Let me know if there's anything else I can assist you with!\n"
     ]
    }
   ],
   "source": [
    "result = agent_executor({\"input\": \"What was the price of the product with sku `FR-R92B-58` ?\"})\n",
    "print(\"***********************************************************\")\n",
    "print(result['output'])"
   ]
  }
 ],
 "metadata": {
  "kernelspec": {
   "display_name": "Python 3",
   "language": "python",
   "name": "python3"
  },
  "language_info": {
   "codemirror_mode": {
    "name": "ipython",
    "version": 3
   },
   "file_extension": ".py",
   "mimetype": "text/x-python",
   "name": "python",
   "nbconvert_exporter": "python",
   "pygments_lexer": "ipython3",
   "version": "3.12.4"
  }
 },
 "nbformat": 4,
 "nbformat_minor": 2
}
